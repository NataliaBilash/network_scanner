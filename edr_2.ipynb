{
  "cells": [
    {
      "cell_type": "markdown",
      "metadata": {
        "id": "view-in-github",
        "colab_type": "text"
      },
      "source": [
        "<a href=\"https://colab.research.google.com/github/NataliaBilash/network_scanner/blob/master/edr_2.ipynb\" target=\"_parent\"><img src=\"https://colab.research.google.com/assets/colab-badge.svg\" alt=\"Open In Colab\"/></a>"
      ]
    },
    {
      "cell_type": "markdown",
      "metadata": {
        "id": "_nb7SSfsr1Rq"
      },
      "source": [
        "## Препроцессинг"
      ]
    },
    {
      "cell_type": "markdown",
      "source": [
        "Целью препроцессинга является первичная обработка данных, в результате которой должен получится массив содержащий обработанные значения в диапазоне от 0 до 1"
      ],
      "metadata": {
        "id": "7yRxXw3xkmEt"
      }
    },
    {
      "cell_type": "code",
      "execution_count": null,
      "metadata": {
        "id": "8hKQCeArr1R_"
      },
      "outputs": [],
      "source": [
        "import pandas as pd\n",
        "from sklearn.preprocessing import MinMaxScaler"
      ]
    },
    {
      "cell_type": "code",
      "execution_count": null,
      "metadata": {
        "colab": {
          "base_uri": "https://localhost:8080/"
        },
        "id": "LjpujW4Kx4XX",
        "outputId": "a2b14d32-260d-4722-c1cb-0ba41fa9a2fb"
      },
      "outputs": [
        {
          "output_type": "stream",
          "name": "stdout",
          "text": [
            "Drive already mounted at /content/drive; to attempt to forcibly remount, call drive.mount(\"/content/drive\", force_remount=True).\n"
          ]
        }
      ],
      "source": [
        "from google.colab import drive\n",
        "drive.mount('/content/drive')"
      ]
    },
    {
      "cell_type": "markdown",
      "source": [
        "Чтобы масштабировать значения IP адреса в диапазон от 0 до 1 была создана функция scale_ip_addresses, получающая на вход IP адрес формата: доменное имя, ipv4 или ipv6, на выходе получается массив отмаштабированных значений. Получая ipv4 или ipv6 разбивает на октеты и делит на 255/65536, чтобы получились знеачения в нужном диапазоне."
      ],
      "metadata": {
        "id": "eepsaroZmE98"
      }
    },
    {
      "cell_type": "code",
      "source": [
        "import ipaddress\n",
        "\n",
        "def scale_ip_addresses(ip_address):\n",
        "    try:\n",
        "        ip_obj = ipaddress.ip_address(ip_address) #создает объект IP-адреса\n",
        "        if ip_obj.version == 4:\n",
        "            octets = ip_address.split('.')\n",
        "            scaled_octets = [int(octet) / 255.0 for octet in octets]\n",
        "            return scaled_octets\n",
        "        elif ip_obj.version == 6:\n",
        "            groups = ip_obj.exploded.split(':')\n",
        "            decimal_values = [int(group, 16) for group in groups]\n",
        "            scaled_values = [(value + 1) / 65536.0 for value in decimal_values]\n",
        "            return scaled_values\n",
        "        else:\n",
        "            ip_address_domain = socket.gethostbyname(ip_address)\n",
        "            octets = ip_address_domain.split('.')\n",
        "            scaled_octets = [int(octet) / 255.0 for octet in octets]\n",
        "            return scaled_octets\n",
        "    except ValueError:\n",
        "        return [0, 0, 0, 0]"
      ],
      "metadata": {
        "id": "QZxhQ_EidZKm"
      },
      "execution_count": null,
      "outputs": []
    },
    {
      "cell_type": "code",
      "execution_count": null,
      "metadata": {
        "id": "ilE_xER3r1SF",
        "outputId": "92bd721a-4aa7-45b6-aed3-daf400e79d9d",
        "colab": {
          "base_uri": "https://localhost:8080/"
        }
      },
      "outputs": [
        {
          "output_type": "stream",
          "name": "stdout",
          "text": [
            "Input dataframe\n",
            "             No.           Time       Source  Destination    Protocol  Length  \\\n",
            "0              1       0.000000  185.175.0.3  185.175.0.5         TCP      66   \n",
            "1              2       0.020652  185.175.0.3  185.175.0.5         TCP      74   \n",
            "2              3       0.020690  185.175.0.5  185.175.0.3         TCP      74   \n",
            "3              4       0.020714  185.175.0.3  185.175.0.5         TCP      66   \n",
            "4              5       0.020828  185.175.0.3  185.175.0.5  Modbus/TCP      78   \n",
            "...          ...            ...          ...          ...         ...     ...   \n",
            "1164774  1164775  118343.565389  185.175.0.3  185.175.0.5         TCP      74   \n",
            "1164775  1164776  118343.565429  185.175.0.5  185.175.0.3         TCP      74   \n",
            "1164776  1164777  118343.565454  185.175.0.3  185.175.0.5         TCP      66   \n",
            "1164777  1164778  118343.565899  185.175.0.3  185.175.0.5  Modbus/TCP      78   \n",
            "1164778  1164779  118343.565913  185.175.0.5  185.175.0.3         TCP      66   \n",
            "\n",
            "                                                      Info  \n",
            "0        43080  >  502 [ACK] Seq=1 Ack=1 Win=502 Len=0 ...  \n",
            "1        43084  >  502 [SYN] Seq=0 Win=64240 Len=0 MSS=...  \n",
            "2        502  >  43084 [SYN, ACK] Seq=0 Ack=1 Win=65160...  \n",
            "3        43084  >  502 [ACK] Seq=1 Ack=1 Win=64256 Len=...  \n",
            "4           Query: Trans: 47315; Unit:   1, Func:   1: ...  \n",
            "...                                                    ...  \n",
            "1164774  [TCP Port numbers reused] 36570  >  502 [SYN] ...  \n",
            "1164775  502  >  36570 [SYN, ACK] Seq=0 Ack=1 Win=65160...  \n",
            "1164776  36570  >  502 [ACK] Seq=1 Ack=1 Win=64256 Len=...  \n",
            "1164777     Query: Trans: 32749; Unit:   1, Func:   4: ...  \n",
            "1164778  502  >  36570 [ACK] Seq=1 Ack=13 Win=65152 Len...  \n",
            "\n",
            "[1164779 rows x 7 columns]\n",
            "Output dataframe\n",
            "                  Time    Length  Protocol_ICMPv6  Protocol_MDNS  \\\n",
            "0             0.000000  0.000000                0              0   \n",
            "1             0.020652  0.051613                0              0   \n",
            "2             0.020690  0.051613                0              0   \n",
            "3             0.020714  0.000000                0              0   \n",
            "4             0.020828  0.077419                0              0   \n",
            "...                ...       ...              ...            ...   \n",
            "1164774  118343.565389  0.051613                0              0   \n",
            "1164775  118343.565429  0.051613                0              0   \n",
            "1164776  118343.565454  0.000000                0              0   \n",
            "1164777  118343.565899  0.077419                0              0   \n",
            "1164778  118343.565913  0.000000                0              0   \n",
            "\n",
            "         Protocol_Modbus/TCP  Protocol_TCP  Source_Octet1  Source_Octet2  \\\n",
            "0                          0             1        0.72549       0.686275   \n",
            "1                          0             1        0.72549       0.686275   \n",
            "2                          0             1        0.72549       0.686275   \n",
            "3                          0             1        0.72549       0.686275   \n",
            "4                          1             0        0.72549       0.686275   \n",
            "...                      ...           ...            ...            ...   \n",
            "1164774                    0             1        0.72549       0.686275   \n",
            "1164775                    0             1        0.72549       0.686275   \n",
            "1164776                    0             1        0.72549       0.686275   \n",
            "1164777                    1             0        0.72549       0.686275   \n",
            "1164778                    0             1        0.72549       0.686275   \n",
            "\n",
            "         Source_Octet3  Source_Octet4  ...  Source_Octet8  Destination_Octet1  \\\n",
            "0                  0.0       0.011765  ...            0.0             0.72549   \n",
            "1                  0.0       0.011765  ...            0.0             0.72549   \n",
            "2                  0.0       0.019608  ...            0.0             0.72549   \n",
            "3                  0.0       0.011765  ...            0.0             0.72549   \n",
            "4                  0.0       0.011765  ...            0.0             0.72549   \n",
            "...                ...            ...  ...            ...                 ...   \n",
            "1164774            0.0       0.011765  ...            0.0             0.72549   \n",
            "1164775            0.0       0.019608  ...            0.0             0.72549   \n",
            "1164776            0.0       0.011765  ...            0.0             0.72549   \n",
            "1164777            0.0       0.011765  ...            0.0             0.72549   \n",
            "1164778            0.0       0.019608  ...            0.0             0.72549   \n",
            "\n",
            "         Destination_Octet2  Destination_Octet3  Destination_Octet4  \\\n",
            "0                  0.686275                 0.0            0.019608   \n",
            "1                  0.686275                 0.0            0.019608   \n",
            "2                  0.686275                 0.0            0.011765   \n",
            "3                  0.686275                 0.0            0.019608   \n",
            "4                  0.686275                 0.0            0.019608   \n",
            "...                     ...                 ...                 ...   \n",
            "1164774            0.686275                 0.0            0.019608   \n",
            "1164775            0.686275                 0.0            0.011765   \n",
            "1164776            0.686275                 0.0            0.019608   \n",
            "1164777            0.686275                 0.0            0.019608   \n",
            "1164778            0.686275                 0.0            0.011765   \n",
            "\n",
            "         Destination_Octet5  Destination_Octet6  Destination_Octet7  \\\n",
            "0                       0.0                 0.0                 0.0   \n",
            "1                       0.0                 0.0                 0.0   \n",
            "2                       0.0                 0.0                 0.0   \n",
            "3                       0.0                 0.0                 0.0   \n",
            "4                       0.0                 0.0                 0.0   \n",
            "...                     ...                 ...                 ...   \n",
            "1164774                 0.0                 0.0                 0.0   \n",
            "1164775                 0.0                 0.0                 0.0   \n",
            "1164776                 0.0                 0.0                 0.0   \n",
            "1164777                 0.0                 0.0                 0.0   \n",
            "1164778                 0.0                 0.0                 0.0   \n",
            "\n",
            "         Destination_Octet8   Timing_data  \n",
            "0                       0.0  0.000000e+00  \n",
            "1                       0.0  1.745089e-07  \n",
            "2                       0.0  1.748300e-07  \n",
            "3                       0.0  1.750328e-07  \n",
            "4                       0.0  1.759960e-07  \n",
            "...                     ...           ...  \n",
            "1164774                 0.0  1.000000e+00  \n",
            "1164775                 0.0  1.000000e+00  \n",
            "1164776                 0.0  1.000000e+00  \n",
            "1164777                 0.0  1.000000e+00  \n",
            "1164778                 0.0  1.000000e+00  \n",
            "\n",
            "[1164779 rows x 23 columns]\n",
            "Shape dataframe\n",
            "(1164779, 23)\n"
          ]
        }
      ],
      "source": [
        "df = pd.read_csv('/content/drive/MyDrive/normal.csv')\n",
        "print('Input dataframe')\n",
        "print(df)\n",
        "\n",
        "#удаление ненужных столбцов\n",
        "df = df.drop(columns = ['Info', 'No.'], axis=1)\n",
        "\n",
        "#обработка пропущенных значений\n",
        "df = df.replace(\"Missing\", pd.NA)\n",
        "df = df.replace(\"Offln\", pd.NA)\n",
        "df = df.dropna()\n",
        "\n",
        "#создание столбцов вида \"Название протокола\" - наличие/отсутсвие 1/0\n",
        "protocol_dummies = pd.get_dummies(df['Protocol'], prefix='Protocol')\n",
        "protocol_dummies = protocol_dummies.astype(int)\n",
        "df_encoded = pd.concat([df, protocol_dummies], axis=1)\n",
        "df_encoded.drop(['Protocol'], axis=1, inplace=True)\n",
        "\n",
        "#применение функции scale_ip_addresses\n",
        "df_encoded['Source_scaled'] = df_encoded['Source'].apply(scale_ip_addresses)\n",
        "df_encoded['Destination_scaled'] = df_encoded['Destination'].apply(scale_ip_addresses)\n",
        "\n",
        "#дополнение ipv4 до длинны 8 октетов нулями и добаление столбцоы\n",
        "df_encoded['Source_scaled'] = df_encoded['Source_scaled'].apply(lambda x: x + [0] * (8 - len(x)))\n",
        "df_encoded['Destination_scaled'] = df_encoded['Destination_scaled'].apply(lambda x: x + [0] * (8 - len(x)))\n",
        "source_octets_df = pd.DataFrame(df_encoded['Source_scaled'].tolist(), columns=[f'Source_Octet{i}' for i in range(1, 9)])\n",
        "destination_octets_df = pd.DataFrame(df_encoded['Destination_scaled'].tolist(), columns=[f'Destination_Octet{i}' for i in range(1, 9)])\n",
        "\n",
        "#соединение датафреймов и удаление ненужных столбцов\n",
        "df_encoded = pd.concat([df_encoded, source_octets_df, destination_octets_df], axis=1)\n",
        "df_encoded.drop(['Source_scaled', 'Destination_scaled', 'Source', 'Destination'], axis=1, inplace=True)\n",
        "df_encoded.fillna(0, inplace=True)\n",
        "\n",
        "#нормализует значения в столбце Length и Timing_data с использованием Min-Max Scaling\n",
        "scaler = MinMaxScaler()\n",
        "df_encoded[['Length']] = scaler.fit_transform(df_encoded[['Length']])\n",
        "df_encoded[['Timing_data']] = scaler.fit_transform(df_encoded[['Time']])\n",
        "\n",
        "print('Output dataframe')\n",
        "print(df_encoded)\n",
        "print('Shape dataframe')\n",
        "print(df_encoded.shape)\n"
      ]
    },
    {
      "cell_type": "markdown",
      "metadata": {
        "id": "bj2hJ0Vzr1SQ"
      },
      "source": [
        "#### Разделение на тестовые и тренировачные выборки"
      ]
    },
    {
      "cell_type": "code",
      "execution_count": null,
      "metadata": {
        "id": "0WFAlDvAr1SR",
        "outputId": "4aae521d-905b-4872-f5ed-cb771808b5be",
        "colab": {
          "base_uri": "https://localhost:8080/"
        }
      },
      "outputs": [
        {
          "output_type": "stream",
          "name": "stdout",
          "text": [
            "Training dataset shape: (931823, 23)\n",
            "Test dataset shape: (232956, 23)\n"
          ]
        }
      ],
      "source": [
        "import numpy as np\n",
        "\n",
        "split_index = int(len(df_encoded) * 0.8)  #80% для обучения\n",
        "\n",
        "train = df_encoded.iloc[:split_index]\n",
        "test = df_encoded.iloc[split_index:]\n",
        "print(\"Training dataset shape:\", train.shape)\n",
        "print(\"Test dataset shape:\", test.shape)"
      ]
    },
    {
      "cell_type": "markdown",
      "source": [
        "Повторная нормализация нужна, чтобы обеспечить одинаковую шкалу значений на обеих выборках."
      ],
      "metadata": {
        "id": "dStVap9KZEun"
      }
    },
    {
      "cell_type": "code",
      "execution_count": null,
      "metadata": {
        "id": "pBBnw5v8r1ST",
        "colab": {
          "base_uri": "https://localhost:8080/"
        },
        "outputId": "e1c2f338-ba42-4639-e066-2db835109c9e"
      },
      "outputs": [
        {
          "output_type": "stream",
          "name": "stdout",
          "text": [
            "Normalize train dataset:\n",
            "[[0.00000000e+00 0.00000000e+00 0.00000000e+00 ... 0.00000000e+00\n",
            "  0.00000000e+00 0.00000000e+00]\n",
            " [2.18146860e-07 5.16129032e-02 0.00000000e+00 ... 0.00000000e+00\n",
            "  0.00000000e+00 2.18146860e-07]\n",
            " [2.18548253e-07 5.16129032e-02 0.00000000e+00 ... 0.00000000e+00\n",
            "  0.00000000e+00 2.18548253e-07]\n",
            " ...\n",
            " [9.99999999e-01 5.16129032e-02 0.00000000e+00 ... 0.00000000e+00\n",
            "  0.00000000e+00 9.99999999e-01]\n",
            " [1.00000000e+00 5.16129032e-02 0.00000000e+00 ... 0.00000000e+00\n",
            "  0.00000000e+00 1.00000000e+00]\n",
            " [1.00000000e+00 0.00000000e+00 0.00000000e+00 ... 0.00000000e+00\n",
            "  0.00000000e+00 1.00000000e+00]]\n",
            "Normalize test dataset:\n",
            "[[1.         0.07741935 0.         ... 0.         0.         1.        ]\n",
            " [1.         0.         0.         ... 0.         0.         1.        ]\n",
            " [1.00000001 0.06451613 0.         ... 0.         0.         1.00000001]\n",
            " ...\n",
            " [1.25006184 0.         0.         ... 0.         0.         1.25006184]\n",
            " [1.25006185 0.07741935 0.         ... 0.         0.         1.25006185]\n",
            " [1.25006185 0.         0.         ... 0.         0.         1.25006185]]\n"
          ]
        }
      ],
      "source": [
        "#нормализация данных\n",
        "scaler = MinMaxScaler()\n",
        "X_train = scaler.fit_transform(train)\n",
        "X_test = scaler.transform(test)\n",
        "print(\"Normalize train dataset:\")\n",
        "print(X_train)\n",
        "print(\"Normalize test dataset:\")\n",
        "print(X_test)"
      ]
    },
    {
      "cell_type": "markdown",
      "metadata": {
        "id": "7DehilQrr1SW"
      },
      "source": [
        "#### Изменить форму входных данных для LSTM"
      ]
    },
    {
      "cell_type": "markdown",
      "source": [
        "Изменить форму нужно, так как на вход LSTM принимается 3D-тензор с формой (batch, timesteps, feature), где\n",
        "batch: количество пакетов в наборе данных,\n",
        "timesteps: количество временных шагов в пакете,\n",
        "features: количество признаков в каждом временном шаге."
      ],
      "metadata": {
        "id": "7Yt2yJvRZjMm"
      }
    },
    {
      "cell_type": "code",
      "execution_count": null,
      "metadata": {
        "id": "hv82Dbsnr1SY",
        "outputId": "ff987746-5ce0-4a58-b1d2-e3d31cdfbf72",
        "colab": {
          "base_uri": "https://localhost:8080/"
        }
      },
      "outputs": [
        {
          "output_type": "stream",
          "name": "stdout",
          "text": [
            "Training data shape: (931823, 1, 23)\n",
            "Test data shape: (232956, 1, 23)\n"
          ]
        }
      ],
      "source": [
        "X_train = X_train.reshape(X_train.shape[0], 1, X_train.shape[1])\n",
        "print(\"Training data shape:\", X_train.shape)\n",
        "X_test = X_test.reshape(X_test.shape[0], 1, X_test.shape[1])\n",
        "print(\"Test data shape:\", X_test.shape)"
      ]
    },
    {
      "cell_type": "markdown",
      "metadata": {
        "id": "7eRKgatUr1Sb"
      },
      "source": [
        "## LSTM"
      ]
    },
    {
      "cell_type": "markdown",
      "source": [
        "Для модели LSTM создается начальный слой, где указывется количество временных щагов и количество признаков. Далее в кажом слое с нейронами есть функция dropout, которая помогает предотвратить переобучение, затушивая случайные нейроны в процессе обучения.\n",
        "\n",
        "Слой RepeatVector нужен, чтобы данные восстанавливали то же измерение, что и исходные входные данные, то есть преобразование тензора функций из 1D в 2D так как для кодера-декодера входные данные сжимаются в один вектор признаков.\n",
        "\n",
        "На выходном слое TimeDistributed применяет Dense к каждому пакету, который он получает в качестве входных данных."
      ],
      "metadata": {
        "id": "K5zxLkA6gEEI"
      }
    },
    {
      "cell_type": "code",
      "execution_count": null,
      "metadata": {
        "id": "L28CHhc3r1Sd"
      },
      "outputs": [],
      "source": [
        "from keras.layers import Input, Dropout, Dense, LSTM, TimeDistributed, RepeatVector\n",
        "from keras.models import Model\n",
        "from keras import regularizers\n",
        "def autoencoder_model(X):\n",
        "    inputs = Input(shape=(X.shape[1], X.shape[2]))\n",
        "    L1 = LSTM(32, activation='relu', return_sequences=True, dropout=0.2)(inputs)\n",
        "    L2 = LSTM(16, activation='relu', return_sequences=False, dropout=0.2)(L1)\n",
        "    #повторяет последний выходной вектор\n",
        "    L3 = RepeatVector(X.shape[1])(L2)\n",
        "    L4 = LSTM(16, activation='relu', return_sequences=True, dropout=0.2)(L3)\n",
        "    L5 = LSTM(32, activation='relu', return_sequences=True, dropout=0.2)(L4)\n",
        "    output = TimeDistributed(Dense(X.shape[2]))(L5)\n",
        "    model = Model(inputs=inputs, outputs=output)\n",
        "    return model"
      ]
    },
    {
      "cell_type": "markdown",
      "source": [
        "Далее создается модель автоэнкодера, экперементальным путем был выделен оптимизатор Adam с заданным коэффициентом скорости обучения 0,001\n",
        "loss='mae' задает функцию потерь, MAE измеряет среднее абсолютное отклонение между фактическими и предсказанными значениями, также ослеживается\n",
        "метрика accuracy"
      ],
      "metadata": {
        "id": "ydkvrAR5rGQx"
      }
    },
    {
      "cell_type": "code",
      "execution_count": null,
      "metadata": {
        "id": "ehYAD9mXr1Se",
        "outputId": "2770c30b-68c9-40b2-a5dd-0349db40a7f9",
        "colab": {
          "base_uri": "https://localhost:8080/"
        }
      },
      "outputs": [
        {
          "output_type": "stream",
          "name": "stderr",
          "text": [
            "WARNING:tensorflow:Layer lstm will not use cuDNN kernels since it doesn't meet the criteria. It will use a generic GPU kernel as fallback when running on GPU.\n",
            "WARNING:tensorflow:Layer lstm_1 will not use cuDNN kernels since it doesn't meet the criteria. It will use a generic GPU kernel as fallback when running on GPU.\n",
            "WARNING:tensorflow:Layer lstm_2 will not use cuDNN kernels since it doesn't meet the criteria. It will use a generic GPU kernel as fallback when running on GPU.\n",
            "WARNING:tensorflow:Layer lstm_3 will not use cuDNN kernels since it doesn't meet the criteria. It will use a generic GPU kernel as fallback when running on GPU.\n"
          ]
        },
        {
          "output_type": "stream",
          "name": "stdout",
          "text": [
            "Model: \"model\"\n",
            "_________________________________________________________________\n",
            " Layer (type)                Output Shape              Param #   \n",
            "=================================================================\n",
            " input_1 (InputLayer)        [(None, 1, 23)]           0         \n",
            "                                                                 \n",
            " lstm (LSTM)                 (None, 1, 32)             7168      \n",
            "                                                                 \n",
            " lstm_1 (LSTM)               (None, 16)                3136      \n",
            "                                                                 \n",
            " repeat_vector (RepeatVecto  (None, 1, 16)             0         \n",
            " r)                                                              \n",
            "                                                                 \n",
            " lstm_2 (LSTM)               (None, 1, 16)             2112      \n",
            "                                                                 \n",
            " lstm_3 (LSTM)               (None, 1, 32)             6272      \n",
            "                                                                 \n",
            " time_distributed (TimeDist  (None, 1, 23)             759       \n",
            " ributed)                                                        \n",
            "                                                                 \n",
            "=================================================================\n",
            "Total params: 19447 (75.96 KB)\n",
            "Trainable params: 19447 (75.96 KB)\n",
            "Non-trainable params: 0 (0.00 Byte)\n",
            "_________________________________________________________________\n"
          ]
        }
      ],
      "source": [
        "from keras.optimizers import Adam\n",
        "\n",
        "model = autoencoder_model(X_train)\n",
        "optimizer = Adam(learning_rate=0.001)\n",
        "model.compile(optimizer=optimizer, loss='mae', metrics=['accuracy'])\n",
        "model.summary()\n"
      ]
    },
    {
      "cell_type": "code",
      "execution_count": null,
      "metadata": {
        "id": "x__AE-nQr1Sg",
        "outputId": "84559243-c8c1-4415-df44-f2559ab0d1df",
        "colab": {
          "base_uri": "https://localhost:8080/"
        }
      },
      "outputs": [
        {
          "output_type": "stream",
          "name": "stdout",
          "text": [
            "Epoch 1/50\n",
            "14560/14560 [==============================] - ETA: 0s - loss: 0.0331 - accuracy: 0.1825\n",
            "Epoch 1: val_loss improved from inf to 0.05209, saving model to best_model.h5\n",
            "14560/14560 [==============================] - 244s 16ms/step - loss: 0.0331 - accuracy: 0.1825 - val_loss: 0.0521 - val_accuracy: 0.0000e+00\n",
            "Epoch 2/50\n",
            "   10/14560 [..............................] - ETA: 2:59 - loss: 0.0338 - accuracy: 0.2812"
          ]
        },
        {
          "output_type": "stream",
          "name": "stderr",
          "text": [
            "/usr/local/lib/python3.10/dist-packages/keras/src/engine/training.py:3103: UserWarning: You are saving your model as an HDF5 file via `model.save()`. This file format is considered legacy. We recommend using instead the native Keras format, e.g. `model.save('my_model.keras')`.\n",
            "  saving_api.save_model(\n"
          ]
        },
        {
          "output_type": "stream",
          "name": "stdout",
          "text": [
            "14560/14560 [==============================] - ETA: 0s - loss: 0.0292 - accuracy: 0.1923\n",
            "Epoch 2: val_loss did not improve from 0.05209\n",
            "14560/14560 [==============================] - 247s 17ms/step - loss: 0.0292 - accuracy: 0.1923 - val_loss: 0.0532 - val_accuracy: 0.0000e+00\n",
            "Epoch 3/50\n",
            "14558/14560 [============================>.] - ETA: 0s - loss: 0.0287 - accuracy: 0.1827\n",
            "Epoch 3: val_loss did not improve from 0.05209\n",
            "14560/14560 [==============================] - 235s 16ms/step - loss: 0.0287 - accuracy: 0.1827 - val_loss: 0.0539 - val_accuracy: 0.0000e+00\n",
            "Epoch 4/50\n",
            "14559/14560 [============================>.] - ETA: 0s - loss: 0.0285 - accuracy: 0.1878\n",
            "Epoch 4: val_loss did not improve from 0.05209\n",
            "14560/14560 [==============================] - 236s 16ms/step - loss: 0.0285 - accuracy: 0.1878 - val_loss: 0.0551 - val_accuracy: 0.0000e+00\n",
            "Epoch 5/50\n",
            "14558/14560 [============================>.] - ETA: 0s - loss: 0.0283 - accuracy: 0.1813\n",
            "Epoch 5: val_loss did not improve from 0.05209\n",
            "14560/14560 [==============================] - 246s 17ms/step - loss: 0.0283 - accuracy: 0.1813 - val_loss: 0.0544 - val_accuracy: 0.0000e+00\n",
            "Epoch 6/50\n",
            "14560/14560 [==============================] - ETA: 0s - loss: 0.0282 - accuracy: 0.1774\n",
            "Epoch 6: val_loss did not improve from 0.05209\n",
            "14560/14560 [==============================] - 232s 16ms/step - loss: 0.0282 - accuracy: 0.1774 - val_loss: 0.0546 - val_accuracy: 0.0000e+00\n",
            "Epoch 7/50\n",
            "14558/14560 [============================>.] - ETA: 0s - loss: 0.0282 - accuracy: 0.1780\n",
            "Epoch 7: val_loss did not improve from 0.05209\n",
            "14560/14560 [==============================] - 236s 16ms/step - loss: 0.0282 - accuracy: 0.1780 - val_loss: 0.0545 - val_accuracy: 0.0000e+00\n",
            "Epoch 8/50\n",
            "14558/14560 [============================>.] - ETA: 0s - loss: 0.0281 - accuracy: 0.1819\n",
            "Epoch 8: val_loss did not improve from 0.05209\n",
            "14560/14560 [==============================] - 247s 17ms/step - loss: 0.0281 - accuracy: 0.1819 - val_loss: 0.0550 - val_accuracy: 0.0000e+00\n",
            "Epoch 9/50\n",
            "14559/14560 [============================>.] - ETA: 0s - loss: 0.0281 - accuracy: 0.1776\n",
            "Epoch 9: val_loss did not improve from 0.05209\n",
            "14560/14560 [==============================] - 235s 16ms/step - loss: 0.0281 - accuracy: 0.1775 - val_loss: 0.0555 - val_accuracy: 0.0000e+00\n",
            "Epoch 10/50\n",
            "14558/14560 [============================>.] - ETA: 0s - loss: 0.0280 - accuracy: 0.1825\n",
            "Epoch 10: val_loss did not improve from 0.05209\n",
            "14560/14560 [==============================] - 245s 17ms/step - loss: 0.0280 - accuracy: 0.1825 - val_loss: 0.0556 - val_accuracy: 0.0000e+00\n",
            "Epoch 11/50\n",
            "14560/14560 [==============================] - ETA: 0s - loss: 0.0280 - accuracy: 0.1817\n",
            "Epoch 11: val_loss did not improve from 0.05209\n",
            "14560/14560 [==============================] - 233s 16ms/step - loss: 0.0280 - accuracy: 0.1817 - val_loss: 0.0551 - val_accuracy: 0.0000e+00\n",
            "Epoch 12/50\n",
            "14560/14560 [==============================] - ETA: 0s - loss: 0.0281 - accuracy: 0.1753\n",
            "Epoch 12: val_loss did not improve from 0.05209\n",
            "14560/14560 [==============================] - 231s 16ms/step - loss: 0.0281 - accuracy: 0.1753 - val_loss: 0.0551 - val_accuracy: 0.0000e+00\n",
            "Epoch 13/50\n",
            "14558/14560 [============================>.] - ETA: 0s - loss: 0.0283 - accuracy: 0.1772\n",
            "Epoch 13: val_loss did not improve from 0.05209\n",
            "14560/14560 [==============================] - 235s 16ms/step - loss: 0.0283 - accuracy: 0.1772 - val_loss: 0.0539 - val_accuracy: 0.0000e+00\n",
            "Epoch 14/50\n",
            "14559/14560 [============================>.] - ETA: 0s - loss: 0.0282 - accuracy: 0.1747\n",
            "Epoch 14: val_loss did not improve from 0.05209\n",
            "14560/14560 [==============================] - 236s 16ms/step - loss: 0.0282 - accuracy: 0.1747 - val_loss: 0.0551 - val_accuracy: 0.0000e+00\n",
            "Epoch 15/50\n",
            "14559/14560 [============================>.] - ETA: 0s - loss: 0.0281 - accuracy: 0.1792\n",
            "Epoch 15: val_loss did not improve from 0.05209\n",
            "14560/14560 [==============================] - 232s 16ms/step - loss: 0.0281 - accuracy: 0.1792 - val_loss: 0.0547 - val_accuracy: 0.0000e+00\n",
            "Epoch 16/50\n",
            "14558/14560 [============================>.] - ETA: 0s - loss: 0.0279 - accuracy: 0.1822\n",
            "Epoch 16: val_loss did not improve from 0.05209\n",
            "14560/14560 [==============================] - 243s 17ms/step - loss: 0.0279 - accuracy: 0.1822 - val_loss: 0.0552 - val_accuracy: 0.0000e+00\n",
            "Epoch 17/50\n",
            "14560/14560 [==============================] - ETA: 0s - loss: 0.0278 - accuracy: 0.1813\n",
            "Epoch 17: val_loss did not improve from 0.05209\n",
            "14560/14560 [==============================] - 236s 16ms/step - loss: 0.0278 - accuracy: 0.1813 - val_loss: 0.0547 - val_accuracy: 0.0000e+00\n",
            "Epoch 18/50\n",
            "14557/14560 [============================>.] - ETA: 0s - loss: 0.0278 - accuracy: 0.1774\n",
            "Epoch 18: val_loss did not improve from 0.05209\n",
            "14560/14560 [==============================] - 232s 16ms/step - loss: 0.0278 - accuracy: 0.1774 - val_loss: 0.0546 - val_accuracy: 0.0000e+00\n",
            "Epoch 19/50\n",
            "14558/14560 [============================>.] - ETA: 0s - loss: 0.0277 - accuracy: 0.1793\n",
            "Epoch 19: val_loss did not improve from 0.05209\n",
            "14560/14560 [==============================] - 232s 16ms/step - loss: 0.0277 - accuracy: 0.1793 - val_loss: 0.0545 - val_accuracy: 0.0000e+00\n",
            "Epoch 20/50\n",
            "14559/14560 [============================>.] - ETA: 0s - loss: 0.0277 - accuracy: 0.1825\n",
            "Epoch 20: val_loss did not improve from 0.05209\n",
            "14560/14560 [==============================] - 230s 16ms/step - loss: 0.0277 - accuracy: 0.1825 - val_loss: 0.0550 - val_accuracy: 0.0000e+00\n",
            "Epoch 21/50\n",
            "14560/14560 [==============================] - ETA: 0s - loss: 0.0276 - accuracy: 0.1812\n",
            "Epoch 21: val_loss did not improve from 0.05209\n",
            "14560/14560 [==============================] - 231s 16ms/step - loss: 0.0276 - accuracy: 0.1812 - val_loss: 0.0551 - val_accuracy: 0.0000e+00\n",
            "Epoch 22/50\n",
            "14558/14560 [============================>.] - ETA: 0s - loss: 0.0276 - accuracy: 0.1754\n",
            "Epoch 22: val_loss did not improve from 0.05209\n",
            "14560/14560 [==============================] - 229s 16ms/step - loss: 0.0276 - accuracy: 0.1753 - val_loss: 0.0547 - val_accuracy: 0.0000e+00\n",
            "Epoch 23/50\n",
            "14559/14560 [============================>.] - ETA: 0s - loss: 0.0275 - accuracy: 0.1802\n",
            "Epoch 23: val_loss did not improve from 0.05209\n",
            "14560/14560 [==============================] - 233s 16ms/step - loss: 0.0275 - accuracy: 0.1803 - val_loss: 0.0547 - val_accuracy: 0.0000e+00\n",
            "Epoch 24/50\n",
            "14558/14560 [============================>.] - ETA: 0s - loss: 0.0275 - accuracy: 0.1797\n",
            "Epoch 24: val_loss did not improve from 0.05209\n",
            "14560/14560 [==============================] - 239s 16ms/step - loss: 0.0275 - accuracy: 0.1797 - val_loss: 0.0549 - val_accuracy: 0.0000e+00\n",
            "Epoch 25/50\n",
            "14559/14560 [============================>.] - ETA: 0s - loss: 0.0275 - accuracy: 0.1772\n",
            "Epoch 25: val_loss did not improve from 0.05209\n",
            "14560/14560 [==============================] - 231s 16ms/step - loss: 0.0275 - accuracy: 0.1772 - val_loss: 0.0542 - val_accuracy: 0.0000e+00\n",
            "Epoch 26/50\n",
            "14560/14560 [==============================] - ETA: 0s - loss: 0.0274 - accuracy: 0.1778\n",
            "Epoch 26: val_loss did not improve from 0.05209\n",
            "14560/14560 [==============================] - 232s 16ms/step - loss: 0.0274 - accuracy: 0.1778 - val_loss: 0.0548 - val_accuracy: 0.0000e+00\n",
            "Epoch 27/50\n",
            "14559/14560 [============================>.] - ETA: 0s - loss: 0.0274 - accuracy: 0.1741\n",
            "Epoch 27: val_loss did not improve from 0.05209\n",
            "14560/14560 [==============================] - 231s 16ms/step - loss: 0.0274 - accuracy: 0.1741 - val_loss: 0.0544 - val_accuracy: 0.0000e+00\n",
            "Epoch 28/50\n",
            "14557/14560 [============================>.] - ETA: 0s - loss: 0.0274 - accuracy: 0.1808\n",
            "Epoch 28: val_loss did not improve from 0.05209\n",
            "14560/14560 [==============================] - 231s 16ms/step - loss: 0.0274 - accuracy: 0.1808 - val_loss: 0.0548 - val_accuracy: 0.0000e+00\n",
            "Epoch 29/50\n",
            "14558/14560 [============================>.] - ETA: 0s - loss: 0.0274 - accuracy: 0.1792\n",
            "Epoch 29: val_loss did not improve from 0.05209\n",
            "14560/14560 [==============================] - 231s 16ms/step - loss: 0.0274 - accuracy: 0.1792 - val_loss: 0.0545 - val_accuracy: 0.0000e+00\n",
            "Epoch 30/50\n",
            "14559/14560 [============================>.] - ETA: 0s - loss: 0.0274 - accuracy: 0.1793\n",
            "Epoch 30: val_loss did not improve from 0.05209\n",
            "14560/14560 [==============================] - 240s 16ms/step - loss: 0.0274 - accuracy: 0.1793 - val_loss: 0.0546 - val_accuracy: 0.0000e+00\n",
            "Epoch 31/50\n",
            "14559/14560 [============================>.] - ETA: 0s - loss: 0.0274 - accuracy: 0.1791\n",
            "Epoch 31: val_loss did not improve from 0.05209\n",
            "14560/14560 [==============================] - 230s 16ms/step - loss: 0.0274 - accuracy: 0.1791 - val_loss: 0.0545 - val_accuracy: 0.0000e+00\n",
            "Epoch 32/50\n",
            "14559/14560 [============================>.] - ETA: 0s - loss: 0.0274 - accuracy: 0.1780\n",
            "Epoch 32: val_loss did not improve from 0.05209\n",
            "14560/14560 [==============================] - 233s 16ms/step - loss: 0.0274 - accuracy: 0.1780 - val_loss: 0.0547 - val_accuracy: 0.0000e+00\n",
            "Epoch 33/50\n",
            "14560/14560 [==============================] - ETA: 0s - loss: 0.0274 - accuracy: 0.1720\n",
            "Epoch 33: val_loss did not improve from 0.05209\n",
            "14560/14560 [==============================] - 232s 16ms/step - loss: 0.0274 - accuracy: 0.1720 - val_loss: 0.0544 - val_accuracy: 0.0000e+00\n",
            "Epoch 34/50\n",
            "14558/14560 [============================>.] - ETA: 0s - loss: 0.0273 - accuracy: 0.1742\n",
            "Epoch 34: val_loss did not improve from 0.05209\n",
            "14560/14560 [==============================] - 231s 16ms/step - loss: 0.0273 - accuracy: 0.1742 - val_loss: 0.0546 - val_accuracy: 0.0000e+00\n",
            "Epoch 35/50\n",
            "14558/14560 [============================>.] - ETA: 0s - loss: 0.0273 - accuracy: 0.1684\n",
            "Epoch 35: val_loss did not improve from 0.05209\n",
            "14560/14560 [==============================] - 257s 18ms/step - loss: 0.0273 - accuracy: 0.1684 - val_loss: 0.0542 - val_accuracy: 0.0000e+00\n",
            "Epoch 36/50\n",
            "14559/14560 [============================>.] - ETA: 0s - loss: 0.0273 - accuracy: 0.1716\n",
            "Epoch 36: val_loss did not improve from 0.05209\n",
            "14560/14560 [==============================] - 254s 17ms/step - loss: 0.0273 - accuracy: 0.1716 - val_loss: 0.0539 - val_accuracy: 0.0000e+00\n",
            "Epoch 37/50\n",
            "14559/14560 [============================>.] - ETA: 0s - loss: 0.0273 - accuracy: 0.1659\n",
            "Epoch 37: val_loss did not improve from 0.05209\n",
            "14560/14560 [==============================] - 262s 18ms/step - loss: 0.0273 - accuracy: 0.1659 - val_loss: 0.0539 - val_accuracy: 0.0000e+00\n",
            "Epoch 38/50\n",
            "14560/14560 [==============================] - ETA: 0s - loss: 0.0273 - accuracy: 0.1783\n",
            "Epoch 38: val_loss did not improve from 0.05209\n",
            "14560/14560 [==============================] - 259s 18ms/step - loss: 0.0273 - accuracy: 0.1783 - val_loss: 0.0539 - val_accuracy: 0.0000e+00\n",
            "Epoch 39/50\n",
            "14560/14560 [==============================] - ETA: 0s - loss: 0.0273 - accuracy: 0.1746\n",
            "Epoch 39: val_loss did not improve from 0.05209\n",
            "14560/14560 [==============================] - 251s 17ms/step - loss: 0.0273 - accuracy: 0.1746 - val_loss: 0.0552 - val_accuracy: 0.0000e+00\n",
            "Epoch 40/50\n",
            "14560/14560 [==============================] - ETA: 0s - loss: 0.0273 - accuracy: 0.1780\n",
            "Epoch 40: val_loss did not improve from 0.05209\n",
            "14560/14560 [==============================] - 254s 17ms/step - loss: 0.0273 - accuracy: 0.1780 - val_loss: 0.0570 - val_accuracy: 0.0000e+00\n",
            "Epoch 41/50\n",
            "14558/14560 [============================>.] - ETA: 0s - loss: 0.0273 - accuracy: 0.1703\n",
            "Epoch 41: val_loss did not improve from 0.05209\n",
            "14560/14560 [==============================] - 261s 18ms/step - loss: 0.0273 - accuracy: 0.1703 - val_loss: 0.0570 - val_accuracy: 0.0000e+00\n",
            "Epoch 42/50\n",
            "14559/14560 [============================>.] - ETA: 0s - loss: 0.0272 - accuracy: 0.1785\n",
            "Epoch 42: val_loss did not improve from 0.05209\n",
            "14560/14560 [==============================] - 260s 18ms/step - loss: 0.0272 - accuracy: 0.1785 - val_loss: 0.0568 - val_accuracy: 0.0000e+00\n",
            "Epoch 43/50\n",
            "14559/14560 [============================>.] - ETA: 0s - loss: 0.0272 - accuracy: 0.1723\n",
            "Epoch 43: val_loss did not improve from 0.05209\n",
            "14560/14560 [==============================] - 251s 17ms/step - loss: 0.0272 - accuracy: 0.1723 - val_loss: 0.0571 - val_accuracy: 0.0000e+00\n",
            "Epoch 44/50\n",
            "14560/14560 [==============================] - ETA: 0s - loss: 0.0272 - accuracy: 0.1770\n",
            "Epoch 44: val_loss did not improve from 0.05209\n",
            "14560/14560 [==============================] - 260s 18ms/step - loss: 0.0272 - accuracy: 0.1770 - val_loss: 0.0573 - val_accuracy: 0.0000e+00\n",
            "Epoch 45/50\n",
            "14558/14560 [============================>.] - ETA: 0s - loss: 0.0272 - accuracy: 0.1758\n",
            "Epoch 45: val_loss did not improve from 0.05209\n",
            "14560/14560 [==============================] - 253s 17ms/step - loss: 0.0272 - accuracy: 0.1759 - val_loss: 0.0574 - val_accuracy: 0.0000e+00\n",
            "Epoch 46/50\n",
            "14558/14560 [============================>.] - ETA: 0s - loss: 0.0272 - accuracy: 0.1811\n",
            "Epoch 46: val_loss did not improve from 0.05209\n",
            "14560/14560 [==============================] - 263s 18ms/step - loss: 0.0272 - accuracy: 0.1811 - val_loss: 0.0574 - val_accuracy: 0.0000e+00\n",
            "Epoch 47/50\n",
            "14558/14560 [============================>.] - ETA: 0s - loss: 0.0272 - accuracy: 0.1778\n",
            "Epoch 47: val_loss did not improve from 0.05209\n",
            "14560/14560 [==============================] - 253s 17ms/step - loss: 0.0272 - accuracy: 0.1778 - val_loss: 0.0573 - val_accuracy: 0.0000e+00\n",
            "Epoch 48/50\n",
            "14560/14560 [==============================] - ETA: 0s - loss: 0.0272 - accuracy: 0.1796\n",
            "Epoch 48: val_loss did not improve from 0.05209\n",
            "14560/14560 [==============================] - 267s 18ms/step - loss: 0.0272 - accuracy: 0.1796 - val_loss: 0.0573 - val_accuracy: 0.0000e+00\n",
            "Epoch 49/50\n",
            "14558/14560 [============================>.] - ETA: 0s - loss: 0.0272 - accuracy: 0.1744\n",
            "Epoch 49: val_loss did not improve from 0.05209\n",
            "14560/14560 [==============================] - 264s 18ms/step - loss: 0.0272 - accuracy: 0.1744 - val_loss: 0.0571 - val_accuracy: 0.0000e+00\n",
            "Epoch 50/50\n",
            "14558/14560 [============================>.] - ETA: 0s - loss: 0.0272 - accuracy: 0.1789\n",
            "Epoch 50: val_loss did not improve from 0.05209\n",
            "14560/14560 [==============================] - 250s 17ms/step - loss: 0.0272 - accuracy: 0.1789 - val_loss: 0.0573 - val_accuracy: 0.0000e+00\n"
          ]
        }
      ],
      "source": [
        "from keras.callbacks import ModelCheckpoint\n",
        "\n",
        "X_val = X_test\n",
        "checkpoint = ModelCheckpoint('best_model.h5',\n",
        "                             monitor='val_loss',\n",
        "                             save_best_only=True,\n",
        "                             mode='min',\n",
        "                             verbose=1)\n",
        "history1 = model.fit(X_train, X_train, epochs=50, batch_size=64, validation_data=(X_val, X_val), callbacks=[checkpoint])\n",
        "\n"
      ]
    },
    {
      "cell_type": "markdown",
      "source": [],
      "metadata": {
        "id": "-8h9ODKaF44j"
      }
    },
    {
      "cell_type": "code",
      "execution_count": null,
      "metadata": {
        "id": "lOchG81ar1Sk",
        "outputId": "e4da93ed-f8c8-4d89-e51c-11d620acbdcd",
        "colab": {
          "base_uri": "https://localhost:8080/"
        }
      },
      "outputs": [
        {
          "output_type": "stream",
          "name": "stdout",
          "text": [
            "7280/7280 [==============================] - 19s 3ms/step\n"
          ]
        }
      ],
      "source": [
        "from tensorflow.keras.models import load_model\n",
        "\n",
        "LTSV_model = load_model('/content/drive/MyDrive/model_2.h5')\n",
        "pred = LTSV_model.predict(X_test)\n"
      ]
    },
    {
      "cell_type": "code",
      "source": [
        "X_test"
      ],
      "metadata": {
        "colab": {
          "base_uri": "https://localhost:8080/"
        },
        "id": "Fm18Q5ckPJLY",
        "outputId": "e3bd1c83-7106-4ce7-ad32-5761cf7a4848"
      },
      "execution_count": null,
      "outputs": [
        {
          "output_type": "execute_result",
          "data": {
            "text/plain": [
              "array([[[1.        , 0.07741935, 0.        , ..., 0.        ,\n",
              "         0.        , 1.        ]],\n",
              "\n",
              "       [[1.        , 0.        , 0.        , ..., 0.        ,\n",
              "         0.        , 1.        ]],\n",
              "\n",
              "       [[1.00000001, 0.06451613, 0.        , ..., 0.        ,\n",
              "         0.        , 1.00000001]],\n",
              "\n",
              "       ...,\n",
              "\n",
              "       [[1.25006184, 0.        , 0.        , ..., 0.        ,\n",
              "         0.        , 1.25006184]],\n",
              "\n",
              "       [[1.25006185, 0.07741935, 0.        , ..., 0.        ,\n",
              "         0.        , 1.25006185]],\n",
              "\n",
              "       [[1.25006185, 0.        , 0.        , ..., 0.        ,\n",
              "         0.        , 1.25006185]]])"
            ]
          },
          "metadata": {},
          "execution_count": 13
        }
      ]
    },
    {
      "cell_type": "code",
      "source": [
        "pred"
      ],
      "metadata": {
        "colab": {
          "base_uri": "https://localhost:8080/"
        },
        "id": "fdvXQBdkPLwg",
        "outputId": "7281564f-6543-4dd0-8766-59093bcb64ea"
      },
      "execution_count": null,
      "outputs": [
        {
          "output_type": "execute_result",
          "data": {
            "text/plain": [
              "array([[[ 7.29458749e-01,  6.92845497e-04,  1.77562470e-04, ...,\n",
              "         -1.01656653e-04, -3.09515744e-05,  7.29291320e-01]],\n",
              "\n",
              "       [[ 7.26959229e-01,  6.90801477e-04,  1.80259813e-04, ...,\n",
              "         -1.04529783e-04, -3.05026770e-05,  7.26790369e-01]],\n",
              "\n",
              "       [[ 7.29678214e-01,  6.93019363e-04,  1.77423237e-04, ...,\n",
              "         -1.01567246e-04, -3.09254974e-05,  7.29510427e-01]],\n",
              "\n",
              "       ...,\n",
              "\n",
              "       [[ 9.05444860e-01,  8.70910415e-04,  7.22792465e-05, ...,\n",
              "          1.41618773e-04,  3.56417149e-05,  9.05944169e-01]],\n",
              "\n",
              "       [[ 9.07569289e-01,  8.81076674e-04,  7.37123191e-05, ...,\n",
              "          1.29595399e-04,  4.28725034e-05,  9.08095002e-01]],\n",
              "\n",
              "       [[ 9.05662179e-01,  8.69720476e-04,  7.30557367e-05, ...,\n",
              "          1.41282566e-04,  3.65339220e-05,  9.06161249e-01]]],\n",
              "      dtype=float32)"
            ]
          },
          "metadata": {},
          "execution_count": 14
        }
      ]
    },
    {
      "cell_type": "markdown",
      "source": [
        "## Результаты\n",
        "![1.png](data:image/png;base64,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)"
      ],
      "metadata": {
        "id": "CJNgq9VcP2y2"
      }
    },
    {
      "cell_type": "markdown",
      "source": [
        "Выполняет оценку MAE между фактическими данными (X_test_reshaped) и предсказанными данными (pred_reshaped). Среднее абсолютное отклонение на каждом временном шаге и для каждого признака = ранее выбрано моделью на этапе обучения, как оптимальное val_loss."
      ],
      "metadata": {
        "id": "BiPro2tirw58"
      }
    },
    {
      "cell_type": "code",
      "source": [
        "from sklearn.metrics import mean_absolute_error\n",
        "\n",
        "#Для оценки нужно перевети в двухмерный массив\n",
        "X_test_reshaped = X_test.reshape(-1, X_test.shape[2])\n",
        "pred_reshaped = pred.reshape(-1, pred.shape[2])\n",
        "\n",
        "mae = mean_absolute_error(X_test_reshaped, pred_reshaped)\n",
        "print(\"Mean Absolute Error:\", mae)"
      ],
      "metadata": {
        "colab": {
          "base_uri": "https://localhost:8080/"
        },
        "id": "NwNbHfkVNoyK",
        "outputId": "49096ecc-67d9-4052-df6f-f3a8b5a59c1b"
      },
      "execution_count": null,
      "outputs": [
        {
          "output_type": "stream",
          "name": "stdout",
          "text": [
            "Mean Absolute Error: 0.05209313675194556\n"
          ]
        }
      ]
    },
    {
      "cell_type": "markdown",
      "source": [
        "# Тесты на данных с аномалиями"
      ],
      "metadata": {
        "id": "JZRCNpt0gl4L"
      }
    },
    {
      "cell_type": "markdown",
      "source": [
        "Для поиска оценки обработки аномалий были проведены следующие эксперементы. В качестстве датасета с аномалиями был применен массив данных с специально изменеными данными, сильно отличающимися от нормлаьных"
      ],
      "metadata": {
        "id": "hHQj73b1P7mo"
      }
    },
    {
      "cell_type": "code",
      "source": [
        "df_anomaly_test = pd.read_csv('/content/drive/MyDrive/attack3.csv')\n",
        "\n",
        "df_anomaly_test = df_anomaly_test.drop(columns = ['Info', 'No.'], axis=1)\n",
        "df_anomaly_test = df_anomaly_test.replace(\"Missing\", pd.NA)\n",
        "df_anomaly_test = df_anomaly_test.replace(\"Offln\", pd.NA)\n",
        "df_anomaly_test = df_anomaly_test.dropna()\n",
        "\n",
        "protocol_dummies = pd.get_dummies(df_anomaly_test['Protocol'], prefix='Protocol')\n",
        "protocol_dummies = protocol_dummies.astype(int)\n",
        "\n",
        "df_anomaly_test_encoded = pd.concat([df_anomaly_test, protocol_dummies], axis=1)\n",
        "df_anomaly_test_encoded.drop(['Protocol'], axis=1, inplace=True)\n",
        "\n",
        "df_anomaly_test_encoded['Source_scaled'] = df_anomaly_test_encoded['Source'].apply(scale_ip_addresses)\n",
        "df_anomaly_test_encoded['Destination_scaled'] = df_anomaly_test_encoded['Destination'].apply(scale_ip_addresses)\n",
        "df_anomaly_test_encoded['Source_scaled'] = df_anomaly_test_encoded['Source_scaled'].apply(lambda x: x + [0] * (8 - len(x)))\n",
        "df_anomaly_test_encoded['Destination_scaled'] = df_anomaly_test_encoded['Destination_scaled'].apply(lambda x: x + [0] * (8 - len(x)))\n",
        "\n",
        "source_octets_df_anomaly_test = pd.DataFrame(df_anomaly_test_encoded['Source_scaled'].tolist(), columns=[f'Source_Octet{i}' for i in range(1, 9)])\n",
        "destination_octets_df_anomaly_test = pd.DataFrame(df_anomaly_test_encoded['Destination_scaled'].tolist(), columns=[f'Destination_Octet{i}' for i in range(1, 9)])\n",
        "\n",
        "\n",
        "df_anomaly_test_encoded = pd.concat([df_anomaly_test_encoded, source_octets_df_anomaly_test, destination_octets_df_anomaly_test], axis=1)\n",
        "df_anomaly_test_encoded.drop(['Source_scaled', 'Destination_scaled', 'Source', 'Destination'], axis=1, inplace=True)\n",
        "df_anomaly_test_encoded.fillna(0, inplace=True)\n",
        "\n",
        "scaler1 = MinMaxScaler()\n",
        "df_anomaly_test_encoded[['Length']] = scaler.fit_transform(df_anomaly_test_encoded[['Length']])\n",
        "df_anomaly_test_encoded[['Timing_data']] = scaler.fit_transform(df_anomaly_test_encoded[['Time']])\n",
        "\n",
        "#нормализация данных\n",
        "scaler2 = MinMaxScaler()\n",
        "df_anomaly_test_scaled = scaler.fit_transform(df_anomaly_test_encoded)\n",
        "print(\"Normalize dataset:\")\n",
        "print(df_anomaly_test_scaled)\n",
        "\n",
        "df_anomaly_test_shaped = df_anomaly_test_scaled.reshape(df_anomaly_test_scaled.shape[0], 1, df_anomaly_test_scaled.shape[1])\n",
        "print(\"Data shape:\", df_anomaly_test_shaped.shape)"
      ],
      "metadata": {
        "colab": {
          "base_uri": "https://localhost:8080/"
        },
        "id": "Ud-rOJo_euAR",
        "outputId": "b1c6f77c-e197-4268-974a-2f234f64b334"
      },
      "execution_count": null,
      "outputs": [
        {
          "output_type": "stream",
          "name": "stdout",
          "text": [
            "Normalize dataset:\n",
            "[[0.00000000e+00 9.16030534e-02 0.00000000e+00 ... 0.00000000e+00\n",
            "  0.00000000e+00 0.00000000e+00]\n",
            " [1.01143859e-10 4.58015267e-02 0.00000000e+00 ... 0.00000000e+00\n",
            "  0.00000000e+00 1.01143859e-10]\n",
            " [2.06885165e-09 8.77862595e-02 0.00000000e+00 ... 0.00000000e+00\n",
            "  0.00000000e+00 2.06885165e-09]\n",
            " ...\n",
            " [9.99999809e-01 4.58015267e-02 0.00000000e+00 ... 0.00000000e+00\n",
            "  0.00000000e+00 9.99999809e-01]\n",
            " [1.00000000e+00 7.63358779e-02 0.00000000e+00 ... 0.00000000e+00\n",
            "  0.00000000e+00 1.00000000e+00]\n",
            " [1.00000000e+00 7.63358779e-02 0.00000000e+00 ... 0.00000000e+00\n",
            "  0.00000000e+00 1.00000000e+00]]\n",
            "Data shape: (1178259, 1, 23)\n"
          ]
        }
      ]
    },
    {
      "cell_type": "code",
      "source": [
        "LTSV_model = load_model('/content/drive/MyDrive/model_2.h5')\n",
        "pred_anomaly_test = LTSV_model.predict(df_anomaly_test_shaped)"
      ],
      "metadata": {
        "colab": {
          "base_uri": "https://localhost:8080/"
        },
        "id": "GO9BxfPYgqin",
        "outputId": "7fdc8490-b2b6-45a7-a19b-98cb71069b31"
      },
      "execution_count": null,
      "outputs": [
        {
          "output_type": "stream",
          "name": "stdout",
          "text": [
            "36821/36821 [==============================] - 96s 3ms/step\n"
          ]
        }
      ]
    },
    {
      "cell_type": "markdown",
      "source": [
        "## 1 метод"
      ],
      "metadata": {
        "id": "HdgKVktsQJ5W"
      }
    },
    {
      "cell_type": "markdown",
      "source": [
        "Нахождение аномалий происходит через прохождение порога при вычислении среднеквадратичной ошибки (MSE) между X_test и pred. Порог был поставлен для примера"
      ],
      "metadata": {
        "id": "MKO7E-uDs31U"
      }
    },
    {
      "cell_type": "code",
      "execution_count": null,
      "metadata": {
        "id": "PSckrxWvr1Sl",
        "colab": {
          "base_uri": "https://localhost:8080/"
        },
        "outputId": "0dcbfd22-9399-41cd-d04a-17a13d9856a7"
      },
      "outputs": [
        {
          "output_type": "stream",
          "name": "stdout",
          "text": [
            "0.022410756769373354\n"
          ]
        }
      ],
      "source": [
        "def mse(df_anomaly_test_shaped, pred_anomaly_test):\n",
        " df_anomaly_test_shaped, pred_anomaly_test = np.array(df_anomaly_test_shaped), np.array(pred_anomaly_test)\n",
        " return np.square(np.subtract(df_anomaly_test_shaped, pred_anomaly_test)).mean()\n",
        "\n",
        "mse=mse(df_anomaly_test_shaped, pred_anomaly_test)\n",
        "threshold = 0.001\n",
        "anomalies = df_anomaly_test_shaped[mse > threshold]\n",
        "print(mse)"
      ]
    },
    {
      "cell_type": "code",
      "execution_count": null,
      "metadata": {
        "id": "Qc9Jrte8r1Sm",
        "outputId": "0bfdd2b8-bb9b-4182-c645-ef4bf178e441",
        "colab": {
          "base_uri": "https://localhost:8080/"
        }
      },
      "outputs": [
        {
          "output_type": "stream",
          "name": "stdout",
          "text": [
            "[[[[0.00000000e+00 9.16030534e-02 0.00000000e+00 ... 0.00000000e+00\n",
            "    0.00000000e+00 0.00000000e+00]]\n",
            "\n",
            "  [[1.01143859e-10 4.58015267e-02 0.00000000e+00 ... 0.00000000e+00\n",
            "    0.00000000e+00 1.01143859e-10]]\n",
            "\n",
            "  [[2.06885165e-09 8.77862595e-02 0.00000000e+00 ... 0.00000000e+00\n",
            "    0.00000000e+00 2.06885165e-09]]\n",
            "\n",
            "  ...\n",
            "\n",
            "  [[9.99999809e-01 4.58015267e-02 0.00000000e+00 ... 0.00000000e+00\n",
            "    0.00000000e+00 9.99999809e-01]]\n",
            "\n",
            "  [[1.00000000e+00 7.63358779e-02 0.00000000e+00 ... 0.00000000e+00\n",
            "    0.00000000e+00 1.00000000e+00]]\n",
            "\n",
            "  [[1.00000000e+00 7.63358779e-02 0.00000000e+00 ... 0.00000000e+00\n",
            "    0.00000000e+00 1.00000000e+00]]]]\n"
          ]
        }
      ],
      "source": [
        "print(anomalies) # как видно на резульат выводится полный маасив данных"
      ]
    },
    {
      "cell_type": "markdown",
      "source": [
        "Была произведена попытка построить гисторграмму и вычислить выбросы, и в теории можно вычислить наиболее отличающиеся значения и посчитать их аномалиями."
      ],
      "metadata": {
        "id": "sUnPJSXqZ4ol"
      }
    },
    {
      "cell_type": "code",
      "source": [
        "anomalies = anomalies.reshape(-1, anomalies.shape[2])\n",
        "print(anomalies.shape)"
      ],
      "metadata": {
        "colab": {
          "base_uri": "https://localhost:8080/"
        },
        "id": "HLN9WGByJu1C",
        "outputId": "bcbb4ea1-575c-40c8-823d-3f41dd4eed48"
      },
      "execution_count": null,
      "outputs": [
        {
          "output_type": "stream",
          "name": "stdout",
          "text": [
            "(27099957, 1)\n"
          ]
        }
      ]
    },
    {
      "cell_type": "code",
      "source": [
        "import matplotlib.pyplot as plt\n",
        "anomalies_values = [item[0] for item in anomalies]\n",
        "\n",
        "#гистограмма\n",
        "plt.hist(anomalies_values, bins=20, color='blue', alpha=0.7)\n",
        "plt.title('Anomalies Histogram')\n",
        "plt.xlabel('Anomaly Value')\n",
        "plt.ylabel('Frequency')\n",
        "plt.show()"
      ],
      "metadata": {
        "colab": {
          "base_uri": "https://localhost:8080/",
          "height": 472
        },
        "id": "FZWXQnUdIBbb",
        "outputId": "6d615280-4fe9-4d44-cc33-2dea97138a0f"
      },
      "execution_count": null,
      "outputs": [
        {
          "output_type": "display_data",
          "data": {
            "text/plain": [
              "<Figure size 640x480 with 1 Axes>"
            ],
            "image/png": "[encoded data removed]"
          },
          "metadata": {}
        }
      ]
    },
    {
      "cell_type": "markdown",
      "source": [
        "## 2 Метод (Z-оценки)"
      ],
      "metadata": {
        "id": "7jQQRADVaM6A"
      }
    },
    {
      "cell_type": "markdown",
      "source": [
        "Сменим подход и теперь будем вычислять разницу между предсказаными и тестовыми значениями, затем с помощью среднего значения, и вычисления z-оценок для каждого элемента подмассива найдем аномалии, тое сть наиболее отличающиеся разницы массивов X_test и diff"
      ],
      "metadata": {
        "id": "_ZBcm8GkaRQQ"
      }
    },
    {
      "cell_type": "code",
      "source": [
        "df_anomaly_test_reshaped = df_anomaly_test_shaped.reshape(-1, df_anomaly_test_shaped.shape[2])\n",
        "pred_anomaly_test_reshaped = pred_anomaly_test.reshape(-1, pred_anomaly_test.shape[2])\n",
        "\n",
        "diff = np.abs(df_anomaly_test_reshaped - pred_anomaly_test_reshaped)\n",
        "diff.shape"
      ],
      "metadata": {
        "colab": {
          "base_uri": "https://localhost:8080/"
        },
        "id": "9wjd_bNQOxrM",
        "outputId": "d7b4c6c1-54c4-4939-ced9-d65d9aee01c0"
      },
      "execution_count": null,
      "outputs": [
        {
          "output_type": "execute_result",
          "data": {
            "text/plain": [
              "(1178259, 23)"
            ]
          },
          "metadata": {},
          "execution_count": 20
        }
      ]
    },
    {
      "cell_type": "code",
      "source": [
        "mean_value = sum(diff) / len(diff)\n",
        "\n",
        "print(f\"Среднее значение: {mean_value}\")"
      ],
      "metadata": {
        "colab": {
          "base_uri": "https://localhost:8080/"
        },
        "id": "DmpUOuM7ML0O",
        "outputId": "015642c0-43fc-40bf-bb37-d26da0ae7a58"
      },
      "execution_count": null,
      "outputs": [
        {
          "output_type": "stream",
          "name": "stdout",
          "text": [
            "Среднее значение: [1.39476955e-01 5.64272782e-02 1.30726280e-04 3.65668509e-04\n",
            " 1.82044359e-01 1.82488632e-01 2.55290963e-04 5.09639204e-04\n",
            " 2.97125652e-04 2.91247335e-01 1.40054360e-04 2.17792900e-04\n",
            " 2.11553903e-04 2.78176494e-04 4.23566652e-04 6.51210232e-04\n",
            " 3.90101644e-04 5.56112712e-03 3.66794453e-04 7.64768644e-04\n",
            " 2.32749349e-04 2.56325070e-04 1.39555352e-01]\n"
          ]
        }
      ]
    },
    {
      "cell_type": "code",
      "source": [
        "#Z-оценки для каждого элемента каждого подмассива\n",
        "z_scores = (diff - mean_value) / np.std(diff, axis=0)\n",
        "\n",
        "#сумма абсолютных Z-оценок для каждого подмассива\n",
        "sum_z_scores = np.sum(np.abs(z_scores), axis=1)\n",
        "\n",
        "#нахождение наиболее отличающихся, можно настроить вывод, в данном случае топ 5 отличающихся\n",
        "top_indices = np.argsort(sum_z_scores)[-1000:]\n",
        "# for index in top_indices:\n",
        "#     print(f\"Отличающийся подмассив {index + 1}: {diff[index]}\")"
      ],
      "metadata": {
        "id": "ObD2ZzT4b4dt"
      },
      "execution_count": null,
      "outputs": []
    },
    {
      "cell_type": "code",
      "source": [
        "selected_rows = df_anomaly_test.loc[top_indices]\n",
        "condition = selected_rows['Source'] != 'fe80::e0ad:ebff:fe69:e489'\n",
        "condition2 = selected_rows['Source'] != 'fe80::42:f9ff:fe49:f009'\n",
        "filtered_df = selected_rows[condition]\n",
        "filtered_df = filtered_df[condition2]\n",
        "\n",
        "# Выведем результат\n",
        "print(filtered_df)"
      ],
      "metadata": {
        "colab": {
          "base_uri": "https://localhost:8080/"
        },
        "id": "VIV5BzkJhr3h",
        "outputId": "e21fb3f9-ce46-43e4-8d7e-2f834688b82e"
      },
      "execution_count": null,
      "outputs": [
        {
          "output_type": "stream",
          "name": "stdout",
          "text": [
            "                  Time       Source  Destination    Protocol  Length\n",
            "97303      9023.751093  185.175.0.5  185.175.0.2  Modbus/TCP      77\n",
            "78138      7248.432879  185.175.0.5  185.175.0.2  Modbus/TCP      78\n",
            "85865      7957.479209  185.175.0.5  185.175.0.2  Modbus/TCP      77\n",
            "85875      7957.503464  185.175.0.5  185.175.0.2  Modbus/TCP      77\n",
            "90345      8370.587151  185.175.0.2  185.175.0.5  Modbus/TCP      78\n",
            "...                ...          ...          ...         ...     ...\n",
            "1043138   96400.966958  185.175.0.1  224.0.0.251        MDNS     160\n",
            "107933    10000.657092  185.175.0.1  224.0.0.251        MDNS     160\n",
            "1082051  100000.975184  185.175.0.1  224.0.0.251        MDNS     160\n",
            "1120615  103600.986175  185.175.0.1  224.0.0.251        MDNS     160\n",
            "1160245  107200.994154  185.175.0.1  224.0.0.251        MDNS     160\n",
            "\n",
            "[789 rows x 5 columns]\n"
          ]
        },
        {
          "output_type": "stream",
          "name": "stderr",
          "text": [
            "<ipython-input-45-90f45eaac410>:5: UserWarning: Boolean Series key will be reindexed to match DataFrame index.\n",
            "  filtered_df = filtered_df[condition2]\n"
          ]
        }
      ]
    }
  ],
  "metadata": {
    "colab": {
      "provenance": [],
      "include_colab_link": true
    },
    "kernelspec": {
      "display_name": "Python 3",
      "name": "python3"
    },
    "language_info": {
      "codemirror_mode": {
        "name": "ipython",
        "version": 3
      },
      "file_extension": ".py",
      "mimetype": "text/x-python",
      "name": "python",
      "nbconvert_exporter": "python",
      "pygments_lexer": "ipython3",
      "version": "3.11.5"
    }
  },
  "nbformat": 4,
  "nbformat_minor": 0
}