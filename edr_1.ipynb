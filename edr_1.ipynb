{
  "cells": [
    {
      "cell_type": "markdown",
      "metadata": {
        "id": "view-in-github",
        "colab_type": "text"
      },
      "source": [
        "<a href=\"https://colab.research.google.com/github/NataliaBilash/network_scanner/blob/master/edr_1.ipynb\" target=\"_parent\"><img src=\"https://colab.research.google.com/assets/colab-badge.svg\" alt=\"Open In Colab\"/></a>"
      ]
    },
    {
      "cell_type": "markdown",
      "metadata": {
        "id": "_nb7SSfsr1Rq"
      },
      "source": [
        "## Препроцессинг"
      ]
    },
    {
      "cell_type": "markdown",
      "source": [
        "Целью препроцессинга является первичная обработка данных, в результате которой должен получится массив содержащий обработанные значения в диапазоне от 0 до 1"
      ],
      "metadata": {
        "id": "7yRxXw3xkmEt"
      }
    },
    {
      "cell_type": "code",
      "execution_count": null,
      "metadata": {
        "id": "8hKQCeArr1R_"
      },
      "outputs": [],
      "source": [
        "import pandas as pd\n",
        "from sklearn.preprocessing import MinMaxScaler"
      ]
    },
    {
      "cell_type": "code",
      "execution_count": null,
      "metadata": {
        "colab": {
          "base_uri": "https://localhost:8080/"
        },
        "id": "LjpujW4Kx4XX",
        "outputId": "00c0bc34-cd94-4543-af03-93468118932e"
      },
      "outputs": [
        {
          "output_type": "stream",
          "name": "stdout",
          "text": [
            "Drive already mounted at /content/drive; to attempt to forcibly remount, call drive.mount(\"/content/drive\", force_remount=True).\n"
          ]
        }
      ],
      "source": [
        "from google.colab import drive\n",
        "drive.mount('/content/drive')"
      ]
    },
    {
      "cell_type": "markdown",
      "source": [
        "Чтобы масштабировать значения IP адреса в диапазон от 0 до 1 была создана функция scale_ip_addresses, получающая на вход IP адрес формата: доменное имя, ipv4 или ipv6, на выходе получается массив отмаштабированных значений. Получая ipv4 или ipv6 разбивает на октеты и делит на 255/65536, чтобы получились знеачения в нужном диапазоне."
      ],
      "metadata": {
        "id": "eepsaroZmE98"
      }
    },
    {
      "cell_type": "code",
      "source": [
        "import ipaddress\n",
        "\n",
        "def scale_ip_addresses(ip_address):\n",
        "    try:\n",
        "        ip_obj = ipaddress.ip_address(ip_address) #создает объект IP-адреса\n",
        "        if ip_obj.version == 4:\n",
        "            octets = ip_address.split('.')\n",
        "            scaled_octets = [int(octet) / 255.0 for octet in octets]\n",
        "            return scaled_octets\n",
        "        elif ip_obj.version == 6:\n",
        "            groups = ip_obj.exploded.split(':')\n",
        "            decimal_values = [int(group, 16) for group in groups]\n",
        "            scaled_values = [(value + 1) / 65536.0 for value in decimal_values]\n",
        "            return scaled_values\n",
        "        else:\n",
        "            ip_address_domain = socket.gethostbyname(ip_address)\n",
        "            octets = ip_address_domain.split('.')\n",
        "            scaled_octets = [int(octet) / 255.0 for octet in octets]\n",
        "            return scaled_octets\n",
        "    except ValueError:\n",
        "        return [0, 0, 0, 0]"
      ],
      "metadata": {
        "id": "QZxhQ_EidZKm"
      },
      "execution_count": null,
      "outputs": []
    },
    {
      "cell_type": "code",
      "execution_count": null,
      "metadata": {
        "id": "ilE_xER3r1SF",
        "outputId": "95be3085-bce1-4a2e-ec48-b6c84631a313",
        "colab": {
          "base_uri": "https://localhost:8080/"
        }
      },
      "outputs": [
        {
          "output_type": "stream",
          "name": "stdout",
          "text": [
            "Input dataframe\n",
            "             No.          Time       Source  Destination    Protocol  Length  \\\n",
            "0              1      0.000000  192.168.0.4  192.168.0.3  Modbus/TCP      78   \n",
            "1              2      0.000169  192.168.0.3  192.168.0.4  Modbus/TCP      89   \n",
            "2              3      0.000317  192.168.0.4  192.168.0.3         TCP      66   \n",
            "3              4      0.005396  192.168.0.4  192.168.0.3  Modbus/TCP      78   \n",
            "4              5      0.005528  192.168.0.3  192.168.0.4  Modbus/TCP      81   \n",
            "...          ...           ...          ...          ...         ...     ...   \n",
            "1100739  1100740  91719.068540  192.168.0.3  192.168.0.4  Modbus/TCP      76   \n",
            "1100740  1100741  91719.068542  192.168.0.4  192.168.0.3         TCP      66   \n",
            "1100741  1100742  91719.118333  192.168.0.4  192.168.0.3  Modbus/TCP      78   \n",
            "1100742  1100743  91719.118637  192.168.0.3  192.168.0.4  Modbus/TCP      76   \n",
            "1100743  1100744  91719.118725  192.168.0.4  192.168.0.3         TCP      66   \n",
            "\n",
            "                                                      Info  \n",
            "0           Query: Trans:   412; Unit:   1, Func:   4: ...  \n",
            "1        Response: Trans:   412; Unit:   1, Func:   4: ...  \n",
            "2        53568  >  502 [ACK] Seq=13 Ack=24 Win=502 Len=...  \n",
            "3           Query: Trans:   413; Unit:   1, Func:   3: ...  \n",
            "4        Response: Trans:   413; Unit:   1, Func:   3: ...  \n",
            "...                                                    ...  \n",
            "1100739  Response: Trans: 39610; Unit:   1, Func:   2: ...  \n",
            "1100740  53568  >  502 [ACK] Seq=4402549 Ack=5319751 Wi...  \n",
            "1100741     Query: Trans: 39611; Unit:   1, Func:   1: ...  \n",
            "1100742  Response: Trans: 39611; Unit:   1, Func:   1: ...  \n",
            "1100743  53568  >  502 [ACK] Seq=4402561 Ack=5319761 Wi...  \n",
            "\n",
            "[1100744 rows x 7 columns]\n",
            "Output dataframe\n",
            "                 Time    Length  Protocol_MDNS  Protocol_Modbus/TCP  \\\n",
            "0            0.000000  0.292683              0                    1   \n",
            "1            0.000169  0.560976              0                    1   \n",
            "2            0.000317  0.000000              0                    0   \n",
            "3            0.005396  0.292683              0                    1   \n",
            "4            0.005528  0.365854              0                    1   \n",
            "...               ...       ...            ...                  ...   \n",
            "1100739  91719.068540  0.243902              0                    1   \n",
            "1100740  91719.068542  0.000000              0                    0   \n",
            "1100741  91719.118333  0.292683              0                    1   \n",
            "1100742  91719.118637  0.243902              0                    1   \n",
            "1100743  91719.118725  0.000000              0                    0   \n",
            "\n",
            "         Protocol_TCP  Source_Octet1  Source_Octet2  Source_Octet3  \\\n",
            "0                   0       0.752941       0.658824            0.0   \n",
            "1                   0       0.752941       0.658824            0.0   \n",
            "2                   1       0.752941       0.658824            0.0   \n",
            "3                   0       0.752941       0.658824            0.0   \n",
            "4                   0       0.752941       0.658824            0.0   \n",
            "...               ...            ...            ...            ...   \n",
            "1100739             0       0.752941       0.658824            0.0   \n",
            "1100740             1       0.752941       0.658824            0.0   \n",
            "1100741             0       0.752941       0.658824            0.0   \n",
            "1100742             0       0.752941       0.658824            0.0   \n",
            "1100743             1       0.752941       0.658824            0.0   \n",
            "\n",
            "         Source_Octet4  Source_Octet5  ...  Source_Octet8  Destination_Octet1  \\\n",
            "0             0.015686            0.0  ...            0.0            0.752941   \n",
            "1             0.011765            0.0  ...            0.0            0.752941   \n",
            "2             0.015686            0.0  ...            0.0            0.752941   \n",
            "3             0.015686            0.0  ...            0.0            0.752941   \n",
            "4             0.011765            0.0  ...            0.0            0.752941   \n",
            "...                ...            ...  ...            ...                 ...   \n",
            "1100739       0.011765            0.0  ...            0.0            0.752941   \n",
            "1100740       0.015686            0.0  ...            0.0            0.752941   \n",
            "1100741       0.015686            0.0  ...            0.0            0.752941   \n",
            "1100742       0.011765            0.0  ...            0.0            0.752941   \n",
            "1100743       0.015686            0.0  ...            0.0            0.752941   \n",
            "\n",
            "         Destination_Octet2  Destination_Octet3  Destination_Octet4  \\\n",
            "0                  0.658824                 0.0            0.011765   \n",
            "1                  0.658824                 0.0            0.015686   \n",
            "2                  0.658824                 0.0            0.011765   \n",
            "3                  0.658824                 0.0            0.011765   \n",
            "4                  0.658824                 0.0            0.015686   \n",
            "...                     ...                 ...                 ...   \n",
            "1100739            0.658824                 0.0            0.015686   \n",
            "1100740            0.658824                 0.0            0.011765   \n",
            "1100741            0.658824                 0.0            0.011765   \n",
            "1100742            0.658824                 0.0            0.015686   \n",
            "1100743            0.658824                 0.0            0.011765   \n",
            "\n",
            "         Destination_Octet5  Destination_Octet6  Destination_Octet7  \\\n",
            "0                       0.0                 0.0                 0.0   \n",
            "1                       0.0                 0.0                 0.0   \n",
            "2                       0.0                 0.0                 0.0   \n",
            "3                       0.0                 0.0                 0.0   \n",
            "4                       0.0                 0.0                 0.0   \n",
            "...                     ...                 ...                 ...   \n",
            "1100739                 0.0                 0.0                 0.0   \n",
            "1100740                 0.0                 0.0                 0.0   \n",
            "1100741                 0.0                 0.0                 0.0   \n",
            "1100742                 0.0                 0.0                 0.0   \n",
            "1100743                 0.0                 0.0                 0.0   \n",
            "\n",
            "         Destination_Octet8   Timing_data  \n",
            "0                       0.0  0.000000e+00  \n",
            "1                       0.0  1.842582e-09  \n",
            "2                       0.0  3.456204e-09  \n",
            "3                       0.0  5.883179e-08  \n",
            "4                       0.0  6.027097e-08  \n",
            "...                     ...           ...  \n",
            "1100739                 0.0  9.999995e-01  \n",
            "1100740                 0.0  9.999995e-01  \n",
            "1100741                 0.0  1.000000e+00  \n",
            "1100742                 0.0  1.000000e+00  \n",
            "1100743                 0.0  1.000000e+00  \n",
            "\n",
            "[1100744 rows x 22 columns]\n",
            "Shape dataframe\n",
            "(1100744, 22)\n"
          ]
        }
      ],
      "source": [
        "df = pd.read_csv('/content/drive/MyDrive/network_data.csv')\n",
        "print('Input dataframe')\n",
        "print(df)\n",
        "\n",
        "#удаление ненужных столбцов\n",
        "df = df.drop(columns = ['Info', 'No.'], axis=1)\n",
        "\n",
        "#обработка пропущенных значений\n",
        "df = df.replace(\"Missing\", pd.NA)\n",
        "df = df.replace(\"Offln\", pd.NA)\n",
        "df = df.dropna()\n",
        "\n",
        "#создание столбцов вида \"Название протокола\" - наличие/отсутсвие 1/0\n",
        "protocol_dummies = pd.get_dummies(df['Protocol'], prefix='Protocol')\n",
        "protocol_dummies = protocol_dummies.astype(int)\n",
        "df_encoded = pd.concat([df, protocol_dummies], axis=1)\n",
        "df_encoded.drop(['Protocol'], axis=1, inplace=True)\n",
        "\n",
        "#применение функции scale_ip_addresses\n",
        "df_encoded['Source_scaled'] = df_encoded['Source'].apply(scale_ip_addresses)\n",
        "df_encoded['Destination_scaled'] = df_encoded['Destination'].apply(scale_ip_addresses)\n",
        "\n",
        "#дополнение ipv4 до длинны 8 октетов нулями и добаление столбцоы\n",
        "df_encoded['Source_scaled'] = df_encoded['Source_scaled'].apply(lambda x: x + [0] * (8 - len(x)))\n",
        "df_encoded['Destination_scaled'] = df_encoded['Destination_scaled'].apply(lambda x: x + [0] * (8 - len(x)))\n",
        "source_octets_df = pd.DataFrame(df_encoded['Source_scaled'].tolist(), columns=[f'Source_Octet{i}' for i in range(1, 9)])\n",
        "destination_octets_df = pd.DataFrame(df_encoded['Destination_scaled'].tolist(), columns=[f'Destination_Octet{i}' for i in range(1, 9)])\n",
        "\n",
        "#соединение датафреймов и удаление ненужных столбцов\n",
        "df_encoded = pd.concat([df_encoded, source_octets_df, destination_octets_df], axis=1)\n",
        "df_encoded.drop(['Source_scaled', 'Destination_scaled', 'Source', 'Destination'], axis=1, inplace=True)\n",
        "df_encoded.fillna(0, inplace=True)\n",
        "\n",
        "#нормализует значения в столбце Length и Timing_data с использованием Min-Max Scaling\n",
        "scaler = MinMaxScaler()\n",
        "df_encoded[['Length']] = scaler.fit_transform(df_encoded[['Length']])\n",
        "df_encoded[['Timing_data']] = scaler.fit_transform(df_encoded[['Time']])\n",
        "\n",
        "print('Output dataframe')\n",
        "print(df_encoded)\n",
        "print('Shape dataframe')\n",
        "print(df_encoded.shape)\n"
      ]
    },
    {
      "cell_type": "markdown",
      "metadata": {
        "id": "bj2hJ0Vzr1SQ"
      },
      "source": [
        "#### Разделение на тестовые и тренировачные выборки"
      ]
    },
    {
      "cell_type": "code",
      "execution_count": null,
      "metadata": {
        "id": "0WFAlDvAr1SR",
        "outputId": "dda01e32-6968-4f8a-8df7-56b3bf1deeb9",
        "colab": {
          "base_uri": "https://localhost:8080/"
        }
      },
      "outputs": [
        {
          "output_type": "stream",
          "name": "stdout",
          "text": [
            "Training dataset shape: (440297, 22)\n",
            "Test dataset shape: (660447, 22)\n"
          ]
        }
      ],
      "source": [
        "import numpy as np\n",
        "\n",
        "split_index = int(len(df_encoded) * 0.4)  #40% для обучения\n",
        "\n",
        "train = df_encoded.iloc[:split_index]\n",
        "test = df_encoded.iloc[split_index:]\n",
        "print(\"Training dataset shape:\", train.shape)\n",
        "print(\"Test dataset shape:\", test.shape)"
      ]
    },
    {
      "cell_type": "markdown",
      "source": [
        "Повторная нормализация нужна, чтобы обеспечить одинаковую шкалу значений на обеих выборках."
      ],
      "metadata": {
        "id": "dStVap9KZEun"
      }
    },
    {
      "cell_type": "code",
      "execution_count": null,
      "metadata": {
        "id": "pBBnw5v8r1ST",
        "colab": {
          "base_uri": "https://localhost:8080/"
        },
        "outputId": "c80d2dda-2844-40c5-a777-fb6785636bdb"
      },
      "outputs": [
        {
          "output_type": "stream",
          "name": "stdout",
          "text": [
            "Normalize train dataset:\n",
            "[[0.00000000e+00 2.92682927e-01 0.00000000e+00 ... 0.00000000e+00\n",
            "  0.00000000e+00 0.00000000e+00]\n",
            " [4.60641082e-09 5.60975610e-01 0.00000000e+00 ... 0.00000000e+00\n",
            "  0.00000000e+00 4.60641082e-09]\n",
            " [8.64042739e-09 0.00000000e+00 0.00000000e+00 ... 0.00000000e+00\n",
            "  0.00000000e+00 8.64042739e-09]\n",
            " ...\n",
            " [9.99976277e-01 2.43902439e-01 0.00000000e+00 ... 0.00000000e+00\n",
            "  0.00000000e+00 9.99976277e-01]\n",
            " [9.99976277e-01 0.00000000e+00 0.00000000e+00 ... 0.00000000e+00\n",
            "  0.00000000e+00 9.99976277e-01]\n",
            " [1.00000000e+00 2.92682927e-01 0.00000000e+00 ... 0.00000000e+00\n",
            "  0.00000000e+00 1.00000000e+00]]\n",
            "Normalize test dataset:\n",
            "[[1.00000001 0.56097561 0.         ... 0.         0.         1.00000001]\n",
            " [1.00000001 0.         0.         ... 0.         0.         1.00000001]\n",
            " [1.00000086 0.29268293 0.         ... 0.         0.         1.00000086]\n",
            " ...\n",
            " [2.49997597 0.29268293 0.         ... 0.         0.         2.49997597]\n",
            " [2.49997598 0.24390244 0.         ... 0.         0.         2.49997598]\n",
            " [2.49997598 0.         0.         ... 0.         0.         2.49997598]]\n"
          ]
        }
      ],
      "source": [
        "#нормализация данных\n",
        "scaler = MinMaxScaler()\n",
        "X_train = scaler.fit_transform(train)\n",
        "X_test = scaler.transform(test)\n",
        "print(\"Normalize train dataset:\")\n",
        "print(X_train)\n",
        "print(\"Normalize test dataset:\")\n",
        "print(X_test)"
      ]
    },
    {
      "cell_type": "markdown",
      "metadata": {
        "id": "7DehilQrr1SW"
      },
      "source": [
        "#### Изменить форму входных данных для LSTM"
      ]
    },
    {
      "cell_type": "markdown",
      "source": [
        "Изменить форму нужно, так как на вход LSTM принимается 3D-тензор с формой (batch, timesteps, feature), где\n",
        "batch: количество пакетов в наборе данных,\n",
        "timesteps: количество временных шагов в пакете,\n",
        "features: количество признаков в каждом временном шаге."
      ],
      "metadata": {
        "id": "7Yt2yJvRZjMm"
      }
    },
    {
      "cell_type": "code",
      "execution_count": null,
      "metadata": {
        "id": "hv82Dbsnr1SY",
        "outputId": "66503682-ec68-4213-9793-a730da999af3",
        "colab": {
          "base_uri": "https://localhost:8080/"
        }
      },
      "outputs": [
        {
          "output_type": "stream",
          "name": "stdout",
          "text": [
            "Training data shape: (440297, 1, 22)\n",
            "Test data shape: (660447, 1, 22)\n"
          ]
        }
      ],
      "source": [
        "X_train = X_train.reshape(X_train.shape[0], 1, X_train.shape[1])\n",
        "print(\"Training data shape:\", X_train.shape)\n",
        "X_test = X_test.reshape(X_test.shape[0], 1, X_test.shape[1])\n",
        "print(\"Test data shape:\", X_test.shape)"
      ]
    },
    {
      "cell_type": "markdown",
      "metadata": {
        "id": "7eRKgatUr1Sb"
      },
      "source": [
        "## LSTM"
      ]
    },
    {
      "cell_type": "markdown",
      "source": [
        "Для модели LSTM создается начальный слой, где указывется количество временных щагов и количество признаков. Далее в кажом слое с нейронами есть функция dropout, которая помогает предотвратить переобучение, затушивая случайные нейроны в процессе обучения.\n",
        "\n",
        "Слой RepeatVector нужен, чтобы данные восстанавливали то же измерение, что и исходные входные данные, то есть преобразование тензора функций из 1D в 2D так как для кодера-декодера входные данные сжимаются в один вектор признаков.\n",
        "\n",
        "На выходном слое TimeDistributed применяет Dense к каждому пакету, который он получает в качестве входных данных."
      ],
      "metadata": {
        "id": "K5zxLkA6gEEI"
      }
    },
    {
      "cell_type": "code",
      "execution_count": null,
      "metadata": {
        "id": "L28CHhc3r1Sd"
      },
      "outputs": [],
      "source": [
        "from keras.layers import Input, Dropout, Dense, LSTM, TimeDistributed, RepeatVector\n",
        "from keras.models import Model\n",
        "from keras import regularizers\n",
        "def autoencoder_model(X):\n",
        "    inputs = Input(shape=(X.shape[1], X.shape[2]))\n",
        "    L1 = LSTM(32, activation='relu', return_sequences=True, dropout=0.2)(inputs)\n",
        "    L2 = LSTM(16, activation='relu', return_sequences=False, dropout=0.2)(L1)\n",
        "    #повторяет последний выходной вектор\n",
        "    L3 = RepeatVector(X.shape[1])(L2)\n",
        "    L4 = LSTM(16, activation='relu', return_sequences=True, dropout=0.2)(L3)\n",
        "    L5 = LSTM(32, activation='relu', return_sequences=True, dropout=0.2)(L4)\n",
        "    output = TimeDistributed(Dense(X.shape[2]))(L5)\n",
        "    model = Model(inputs=inputs, outputs=output)\n",
        "    return model"
      ]
    },
    {
      "cell_type": "markdown",
      "source": [
        "Далее создается модель автоэнкодера, экперементальным путем был выделен оптимизатор Adam с заданным коэффициентом скорости обучения 0,001\n",
        "loss='mae' задает функцию потерь, MAE измеряет среднее абсолютное отклонение между фактическими и предсказанными значениями, также ослеживается\n",
        "метрика accuracy"
      ],
      "metadata": {
        "id": "ydkvrAR5rGQx"
      }
    },
    {
      "cell_type": "code",
      "execution_count": null,
      "metadata": {
        "id": "ehYAD9mXr1Se",
        "outputId": "5110d22c-a572-4f1a-bdd1-690857628fbc",
        "colab": {
          "base_uri": "https://localhost:8080/"
        }
      },
      "outputs": [
        {
          "output_type": "stream",
          "name": "stdout",
          "text": [
            "Model: \"model_1\"\n",
            "_________________________________________________________________\n",
            " Layer (type)                Output Shape              Param #   \n",
            "=================================================================\n",
            " input_2 (InputLayer)        [(None, 1, 22)]           0         \n",
            "                                                                 \n",
            " lstm_4 (LSTM)               (None, 1, 32)             7040      \n",
            "                                                                 \n",
            " lstm_5 (LSTM)               (None, 16)                3136      \n",
            "                                                                 \n",
            " repeat_vector_1 (RepeatVec  (None, 1, 16)             0         \n",
            " tor)                                                            \n",
            "                                                                 \n",
            " lstm_6 (LSTM)               (None, 1, 16)             2112      \n",
            "                                                                 \n",
            " lstm_7 (LSTM)               (None, 1, 32)             6272      \n",
            "                                                                 \n",
            " time_distributed_1 (TimeDi  (None, 1, 22)             726       \n",
            " stributed)                                                      \n",
            "                                                                 \n",
            "=================================================================\n",
            "Total params: 19286 (75.34 KB)\n",
            "Trainable params: 19286 (75.34 KB)\n",
            "Non-trainable params: 0 (0.00 Byte)\n",
            "_________________________________________________________________\n"
          ]
        }
      ],
      "source": [
        "from keras.optimizers import Adam\n",
        "\n",
        "model = autoencoder_model(X_train)\n",
        "optimizer = Adam(learning_rate=0.001)\n",
        "model.compile(optimizer=optimizer, loss='mae', metrics=['accuracy'])\n",
        "model.summary()\n"
      ]
    },
    {
      "cell_type": "code",
      "execution_count": null,
      "metadata": {
        "id": "x__AE-nQr1Sg",
        "outputId": "a3da6005-4ce7-4648-d4e5-61d313bf8e5c",
        "colab": {
          "base_uri": "https://localhost:8080/"
        }
      },
      "outputs": [
        {
          "metadata": {
            "tags": null
          },
          "name": "stdout",
          "output_type": "stream",
          "text": [
            "Epoch 1/50\n",
            "6880/6880 [==============================] - ETA: 0s - loss: 0.0573 - accuracy: 0.0868\n",
            "Epoch 1: val_loss improved from inf to 0.12509, saving model to best_model.h5\n",
            "6880/6880 [==============================] - 172s 24ms/step - loss: 0.0573 - accuracy: 0.0868 - val_loss: 0.1251 - val_accuracy: 0.0000e+00\n",
            "Epoch 2/50\n",
            "   9/6880 [..............................] - ETA: 1:27 - loss: 0.0503 - accuracy: 0.1146"
          ]
        },
        {
          "metadata": {
            "tags": null
          },
          "name": "stderr",
          "output_type": "stream",
          "text": [
            "/usr/local/lib/python3.10/dist-packages/keras/src/engine/training.py:3103: UserWarning: You are saving your model as an HDF5 file via `model.save()`. This file format is considered legacy. We recommend using instead the native Keras format, e.g. `model.save('my_model.keras')`.\n",
            "  saving_api.save_model(\n"
          ]
        },
        {
          "output_type": "stream",
          "name": "stdout",
          "text": [
            "6879/6880 [============================>.] - ETA: 0s - loss: 0.0488 - accuracy: 0.0844\n",
            "Epoch 2: val_loss did not improve from 0.12509\n",
            "6880/6880 [==============================] - 143s 21ms/step - loss: 0.0488 - accuracy: 0.0844 - val_loss: 0.1326 - val_accuracy: 0.0000e+00\n",
            "Epoch 3/50\n",
            "6880/6880 [==============================] - ETA: 0s - loss: 0.0483 - accuracy: 0.0841\n",
            "Epoch 3: val_loss did not improve from 0.12509\n",
            "6880/6880 [==============================] - 144s 21ms/step - loss: 0.0483 - accuracy: 0.0841 - val_loss: 0.1263 - val_accuracy: 0.0000e+00\n",
            "Epoch 4/50\n",
            "6880/6880 [==============================] - ETA: 0s - loss: 0.0480 - accuracy: 0.0801\n",
            "Epoch 4: val_loss did not improve from 0.12509\n",
            "6880/6880 [==============================] - 156s 23ms/step - loss: 0.0480 - accuracy: 0.0801 - val_loss: 0.1383 - val_accuracy: 0.0000e+00\n",
            "Epoch 5/50\n",
            "6880/6880 [==============================] - ETA: 0s - loss: 0.0478 - accuracy: 0.0822\n",
            "Epoch 5: val_loss improved from 0.12509 to 0.12299, saving model to best_model.h5\n",
            "6880/6880 [==============================] - 157s 23ms/step - loss: 0.0478 - accuracy: 0.0822 - val_loss: 0.1230 - val_accuracy: 0.0000e+00\n",
            "Epoch 6/50\n",
            "6879/6880 [============================>.] - ETA: 0s - loss: 0.0476 - accuracy: 0.0795\n",
            "Epoch 6: val_loss did not improve from 0.12299\n",
            "6880/6880 [==============================] - 143s 21ms/step - loss: 0.0476 - accuracy: 0.0795 - val_loss: 0.1248 - val_accuracy: 0.0000e+00\n",
            "Epoch 7/50\n",
            "6880/6880 [==============================] - ETA: 0s - loss: 0.0475 - accuracy: 0.0848\n",
            "Epoch 7: val_loss did not improve from 0.12299\n",
            "6880/6880 [==============================] - 154s 22ms/step - loss: 0.0475 - accuracy: 0.0848 - val_loss: 0.1236 - val_accuracy: 0.0000e+00\n",
            "Epoch 8/50\n",
            "6880/6880 [==============================] - ETA: 0s - loss: 0.0472 - accuracy: 0.0809\n",
            "Epoch 8: val_loss improved from 0.12299 to 0.12276, saving model to best_model.h5\n",
            "6880/6880 [==============================] - 149s 22ms/step - loss: 0.0472 - accuracy: 0.0809 - val_loss: 0.1228 - val_accuracy: 0.0000e+00\n",
            "Epoch 9/50\n",
            "6879/6880 [============================>.] - ETA: 0s - loss: 0.0472 - accuracy: 0.0804\n",
            "Epoch 9: val_loss improved from 0.12276 to 0.11774, saving model to best_model.h5\n",
            "6880/6880 [==============================] - 137s 20ms/step - loss: 0.0472 - accuracy: 0.0803 - val_loss: 0.1177 - val_accuracy: 0.0000e+00\n",
            "Epoch 10/50\n",
            "6880/6880 [==============================] - ETA: 0s - loss: 0.0470 - accuracy: 0.0818\n",
            "Epoch 10: val_loss did not improve from 0.11774\n",
            "6880/6880 [==============================] - 147s 21ms/step - loss: 0.0470 - accuracy: 0.0818 - val_loss: 0.1372 - val_accuracy: 0.0000e+00\n",
            "Epoch 11/50\n",
            "6879/6880 [============================>.] - ETA: 0s - loss: 0.0469 - accuracy: 0.0794\n",
            "Epoch 11: val_loss did not improve from 0.11774\n",
            "6880/6880 [==============================] - 147s 21ms/step - loss: 0.0469 - accuracy: 0.0794 - val_loss: 0.1367 - val_accuracy: 0.0000e+00\n",
            "Epoch 12/50\n",
            "6877/6880 [============================>.] - ETA: 0s - loss: 0.0468 - accuracy: 0.0833\n",
            "Epoch 12: val_loss improved from 0.11774 to 0.11700, saving model to best_model.h5\n",
            "6880/6880 [==============================] - 145s 21ms/step - loss: 0.0468 - accuracy: 0.0833 - val_loss: 0.1170 - val_accuracy: 1.5141e-06\n",
            "Epoch 13/50\n",
            "6878/6880 [============================>.] - ETA: 0s - loss: 0.0467 - accuracy: 0.0832\n",
            "Epoch 13: val_loss did not improve from 0.11700\n",
            "6880/6880 [==============================] - 129s 19ms/step - loss: 0.0467 - accuracy: 0.0832 - val_loss: 0.1332 - val_accuracy: 0.0000e+00\n",
            "Epoch 14/50\n",
            "6877/6880 [============================>.] - ETA: 0s - loss: 0.0467 - accuracy: 0.0805\n",
            "Epoch 14: val_loss improved from 0.11700 to 0.11357, saving model to best_model.h5\n",
            "6880/6880 [==============================] - 141s 20ms/step - loss: 0.0467 - accuracy: 0.0805 - val_loss: 0.1136 - val_accuracy: 0.1109\n",
            "Epoch 15/50\n",
            "6879/6880 [============================>.] - ETA: 0s - loss: 0.0468 - accuracy: 0.0778\n",
            "Epoch 15: val_loss did not improve from 0.11357\n",
            "6880/6880 [==============================] - 144s 21ms/step - loss: 0.0468 - accuracy: 0.0778 - val_loss: 0.1186 - val_accuracy: 0.0980\n",
            "Epoch 16/50\n",
            "6879/6880 [============================>.] - ETA: 0s - loss: 0.0467 - accuracy: 0.0810\n",
            "Epoch 16: val_loss did not improve from 0.11357\n",
            "6880/6880 [==============================] - 145s 21ms/step - loss: 0.0467 - accuracy: 0.0810 - val_loss: 0.1318 - val_accuracy: 6.0565e-06\n",
            "Epoch 17/50\n",
            "6877/6880 [============================>.] - ETA: 0s - loss: 0.0467 - accuracy: 0.0809\n",
            "Epoch 17: val_loss did not improve from 0.11357\n",
            "6880/6880 [==============================] - 147s 21ms/step - loss: 0.0467 - accuracy: 0.0808 - val_loss: 0.1306 - val_accuracy: 0.0000e+00\n",
            "Epoch 18/50\n",
            "6879/6880 [============================>.] - ETA: 0s - loss: 0.0467 - accuracy: 0.0808\n",
            "Epoch 18: val_loss did not improve from 0.11357\n",
            "6880/6880 [==============================] - 131s 19ms/step - loss: 0.0467 - accuracy: 0.0808 - val_loss: 0.1213 - val_accuracy: 0.0446\n",
            "Epoch 19/50\n",
            "6879/6880 [============================>.] - ETA: 0s - loss: 0.0466 - accuracy: 0.0739\n",
            "Epoch 19: val_loss did not improve from 0.11357\n",
            "6880/6880 [==============================] - 133s 19ms/step - loss: 0.0466 - accuracy: 0.0739 - val_loss: 0.1178 - val_accuracy: 0.0000e+00\n",
            "Epoch 20/50\n",
            "6877/6880 [============================>.] - ETA: 0s - loss: 0.0466 - accuracy: 0.0782\n",
            "Epoch 20: val_loss did not improve from 0.11357\n",
            "6880/6880 [==============================] - 145s 21ms/step - loss: 0.0466 - accuracy: 0.0783 - val_loss: 0.1148 - val_accuracy: 0.0015\n",
            "Epoch 21/50\n",
            "6880/6880 [==============================] - ETA: 0s - loss: 0.0466 - accuracy: 0.0787\n",
            "Epoch 21: val_loss did not improve from 0.11357\n",
            "6880/6880 [==============================] - 147s 21ms/step - loss: 0.0466 - accuracy: 0.0787 - val_loss: 0.1373 - val_accuracy: 0.0000e+00\n",
            "Epoch 22/50\n",
            "6879/6880 [============================>.] - ETA: 0s - loss: 0.0465 - accuracy: 0.0773\n",
            "Epoch 22: val_loss did not improve from 0.11357\n",
            "6880/6880 [==============================] - 146s 21ms/step - loss: 0.0465 - accuracy: 0.0773 - val_loss: 0.1546 - val_accuracy: 0.0000e+00\n",
            "Epoch 23/50\n",
            "6880/6880 [==============================] - ETA: 0s - loss: 0.0465 - accuracy: 0.0834\n",
            "Epoch 23: val_loss did not improve from 0.11357\n",
            "6880/6880 [==============================] - 145s 21ms/step - loss: 0.0465 - accuracy: 0.0834 - val_loss: 0.1222 - val_accuracy: 0.0000e+00\n",
            "Epoch 24/50\n",
            "6880/6880 [==============================] - ETA: 0s - loss: 0.0465 - accuracy: 0.0802\n",
            "Epoch 24: val_loss did not improve from 0.11357\n",
            "6880/6880 [==============================] - 133s 19ms/step - loss: 0.0465 - accuracy: 0.0802 - val_loss: 0.1251 - val_accuracy: 0.0000e+00\n",
            "Epoch 25/50\n",
            "6876/6880 [============================>.] - ETA: 0s - loss: 0.0465 - accuracy: 0.0814\n",
            "Epoch 25: val_loss did not improve from 0.11357\n",
            "6880/6880 [==============================] - 141s 21ms/step - loss: 0.0465 - accuracy: 0.0814 - val_loss: 0.1157 - val_accuracy: 1.5141e-06\n",
            "Epoch 26/50\n",
            "6879/6880 [============================>.] - ETA: 0s - loss: 0.0466 - accuracy: 0.0771\n",
            "Epoch 26: val_loss did not improve from 0.11357\n",
            "6880/6880 [==============================] - 138s 20ms/step - loss: 0.0466 - accuracy: 0.0771 - val_loss: 0.1326 - val_accuracy: 0.0000e+00\n",
            "Epoch 27/50\n",
            "6878/6880 [============================>.] - ETA: 0s - loss: 0.0465 - accuracy: 0.0813\n",
            "Epoch 27: val_loss did not improve from 0.11357\n",
            "6880/6880 [==============================] - 138s 20ms/step - loss: 0.0465 - accuracy: 0.0813 - val_loss: 0.1167 - val_accuracy: 0.0000e+00\n",
            "Epoch 28/50\n",
            "6879/6880 [============================>.] - ETA: 0s - loss: 0.0465 - accuracy: 0.0839\n",
            "Epoch 28: val_loss did not improve from 0.11357\n",
            "6880/6880 [==============================] - 140s 20ms/step - loss: 0.0465 - accuracy: 0.0840 - val_loss: 0.1169 - val_accuracy: 0.0000e+00\n",
            "Epoch 29/50\n",
            "6877/6880 [============================>.] - ETA: 0s - loss: 0.0465 - accuracy: 0.0780\n",
            "Epoch 29: val_loss did not improve from 0.11357\n",
            "6880/6880 [==============================] - 138s 20ms/step - loss: 0.0465 - accuracy: 0.0780 - val_loss: 0.1182 - val_accuracy: 0.0000e+00\n",
            "Epoch 30/50\n",
            "6877/6880 [============================>.] - ETA: 0s - loss: 0.0464 - accuracy: 0.0709\n",
            "Epoch 30: val_loss did not improve from 0.11357\n",
            "6880/6880 [==============================] - 139s 20ms/step - loss: 0.0464 - accuracy: 0.0710 - val_loss: 0.1313 - val_accuracy: 0.0000e+00\n",
            "Epoch 31/50\n",
            "6880/6880 [==============================] - ETA: 0s - loss: 0.0465 - accuracy: 0.0842\n",
            "Epoch 31: val_loss did not improve from 0.11357\n",
            "6880/6880 [==============================] - 139s 20ms/step - loss: 0.0465 - accuracy: 0.0842 - val_loss: 0.1321 - val_accuracy: 1.5141e-06\n",
            "Epoch 32/50\n",
            "6879/6880 [============================>.] - ETA: 0s - loss: 0.0464 - accuracy: 0.0749\n",
            "Epoch 32: val_loss did not improve from 0.11357\n",
            "6880/6880 [==============================] - 139s 20ms/step - loss: 0.0464 - accuracy: 0.0749 - val_loss: 0.1270 - val_accuracy: 0.0000e+00\n",
            "Epoch 33/50\n",
            "6880/6880 [==============================] - ETA: 0s - loss: 0.0463 - accuracy: 0.0800\n",
            "Epoch 33: val_loss did not improve from 0.11357\n",
            "6880/6880 [==============================] - 124s 18ms/step - loss: 0.0463 - accuracy: 0.0800 - val_loss: 0.1432 - val_accuracy: 0.0000e+00\n",
            "Epoch 34/50\n",
            "6877/6880 [============================>.] - ETA: 0s - loss: 0.0464 - accuracy: 0.0786\n",
            "Epoch 34: val_loss did not improve from 0.11357\n",
            "6880/6880 [==============================] - 123s 18ms/step - loss: 0.0464 - accuracy: 0.0786 - val_loss: 0.1391 - val_accuracy: 0.0000e+00\n",
            "Epoch 35/50\n",
            "6880/6880 [==============================] - ETA: 0s - loss: 0.0463 - accuracy: 0.0757\n",
            "Epoch 35: val_loss did not improve from 0.11357\n",
            "6880/6880 [==============================] - 139s 20ms/step - loss: 0.0463 - accuracy: 0.0757 - val_loss: 0.1354 - val_accuracy: 0.0000e+00\n",
            "Epoch 36/50\n",
            "6879/6880 [============================>.] - ETA: 0s - loss: 0.0463 - accuracy: 0.0866\n",
            "Epoch 36: val_loss did not improve from 0.11357\n",
            "6880/6880 [==============================] - 139s 20ms/step - loss: 0.0463 - accuracy: 0.0866 - val_loss: 0.1571 - val_accuracy: 0.0000e+00\n",
            "Epoch 37/50\n",
            "6876/6880 [============================>.] - ETA: 0s - loss: 0.0463 - accuracy: 0.0778\n",
            "Epoch 37: val_loss did not improve from 0.11357\n",
            "6880/6880 [==============================] - 139s 20ms/step - loss: 0.0463 - accuracy: 0.0778 - val_loss: 0.1241 - val_accuracy: 0.0000e+00\n",
            "Epoch 38/50\n",
            "6879/6880 [============================>.] - ETA: 0s - loss: 0.0463 - accuracy: 0.0775\n",
            "Epoch 38: val_loss did not improve from 0.11357\n",
            "6880/6880 [==============================] - 125s 18ms/step - loss: 0.0463 - accuracy: 0.0775 - val_loss: 0.1527 - val_accuracy: 0.0000e+00\n",
            "Epoch 39/50\n",
            "6880/6880 [==============================] - ETA: 0s - loss: 0.0463 - accuracy: 0.0825\n",
            "Epoch 39: val_loss did not improve from 0.11357\n",
            "6880/6880 [==============================] - 139s 20ms/step - loss: 0.0463 - accuracy: 0.0825 - val_loss: 0.1571 - val_accuracy: 0.0000e+00\n",
            "Epoch 40/50\n",
            "6880/6880 [==============================] - ETA: 0s - loss: 0.0462 - accuracy: 0.0813\n",
            "Epoch 40: val_loss did not improve from 0.11357\n",
            "6880/6880 [==============================] - 138s 20ms/step - loss: 0.0462 - accuracy: 0.0813 - val_loss: 0.1435 - val_accuracy: 0.0000e+00\n",
            "Epoch 41/50\n",
            "6880/6880 [==============================] - ETA: 0s - loss: 0.0462 - accuracy: 0.0845\n",
            "Epoch 41: val_loss did not improve from 0.11357\n",
            "6880/6880 [==============================] - 139s 20ms/step - loss: 0.0462 - accuracy: 0.0845 - val_loss: 0.1380 - val_accuracy: 0.0000e+00\n",
            "Epoch 42/50\n",
            "6876/6880 [============================>.] - ETA: 0s - loss: 0.0462 - accuracy: 0.0828\n",
            "Epoch 42: val_loss did not improve from 0.11357\n",
            "6880/6880 [==============================] - 139s 20ms/step - loss: 0.0462 - accuracy: 0.0828 - val_loss: 0.1279 - val_accuracy: 0.0000e+00\n",
            "Epoch 43/50\n",
            "6879/6880 [============================>.] - ETA: 0s - loss: 0.0462 - accuracy: 0.0815\n",
            "Epoch 43: val_loss did not improve from 0.11357\n",
            "6880/6880 [==============================] - 139s 20ms/step - loss: 0.0462 - accuracy: 0.0815 - val_loss: 0.1340 - val_accuracy: 0.0000e+00\n",
            "Epoch 44/50\n",
            "6880/6880 [==============================] - ETA: 0s - loss: 0.0461 - accuracy: 0.0790\n",
            "Epoch 44: val_loss did not improve from 0.11357\n",
            "6880/6880 [==============================] - 125s 18ms/step - loss: 0.0461 - accuracy: 0.0790 - val_loss: 0.1426 - val_accuracy: 0.0000e+00\n",
            "Epoch 45/50\n",
            "6878/6880 [============================>.] - ETA: 0s - loss: 0.0462 - accuracy: 0.0811\n",
            "Epoch 45: val_loss did not improve from 0.11357\n",
            "6880/6880 [==============================] - 139s 20ms/step - loss: 0.0462 - accuracy: 0.0811 - val_loss: 0.1325 - val_accuracy: 0.0000e+00\n",
            "Epoch 46/50\n",
            "6880/6880 [==============================] - ETA: 0s - loss: 0.0461 - accuracy: 0.0811\n",
            "Epoch 46: val_loss did not improve from 0.11357\n",
            "6880/6880 [==============================] - 140s 20ms/step - loss: 0.0461 - accuracy: 0.0811 - val_loss: 0.1323 - val_accuracy: 0.0000e+00\n",
            "Epoch 47/50\n",
            "6877/6880 [============================>.] - ETA: 0s - loss: 0.0462 - accuracy: 0.0789\n",
            "Epoch 47: val_loss did not improve from 0.11357\n",
            "6880/6880 [==============================] - 138s 20ms/step - loss: 0.0462 - accuracy: 0.0789 - val_loss: 0.1247 - val_accuracy: 0.0408\n",
            "Epoch 48/50\n",
            "6878/6880 [============================>.] - ETA: 0s - loss: 0.0461 - accuracy: 0.0819\n",
            "Epoch 48: val_loss did not improve from 0.11357\n",
            "6880/6880 [==============================] - 140s 20ms/step - loss: 0.0461 - accuracy: 0.0819 - val_loss: 0.1420 - val_accuracy: 0.0000e+00\n",
            "Epoch 49/50\n",
            "6880/6880 [==============================] - ETA: 0s - loss: 0.0461 - accuracy: 0.0815\n",
            "Epoch 49: val_loss did not improve from 0.11357\n",
            "6880/6880 [==============================] - 138s 20ms/step - loss: 0.0461 - accuracy: 0.0815 - val_loss: 0.1364 - val_accuracy: 0.0000e+00\n",
            "Epoch 50/50\n",
            "6880/6880 [==============================] - ETA: 0s - loss: 0.0461 - accuracy: 0.0799\n",
            "Epoch 50: val_loss did not improve from 0.11357\n",
            "6880/6880 [==============================] - 125s 18ms/step - loss: 0.0461 - accuracy: 0.0799 - val_loss: 0.1451 - val_accuracy: 0.0000e+00\n"
          ]
        }
      ],
      "source": [
        "from keras.callbacks import ModelCheckpoint\n",
        "\n",
        "X_val = X_test\n",
        "checkpoint = ModelCheckpoint('best_model.h5',\n",
        "                             monitor='val_loss',\n",
        "                             save_best_only=True,\n",
        "                             mode='min',\n",
        "                             verbose=1)\n",
        "history1 = model.fit(X_train, X_train, epochs=50, batch_size=64, validation_data=(X_val, X_val), callbacks=[checkpoint])\n",
        "\n"
      ]
    },
    {
      "cell_type": "markdown",
      "source": [],
      "metadata": {
        "id": "-8h9ODKaF44j"
      }
    },
    {
      "cell_type": "code",
      "execution_count": null,
      "metadata": {
        "id": "lOchG81ar1Sk",
        "outputId": "ff730b07-2d92-4c29-c343-be6f1f4ea29d",
        "colab": {
          "base_uri": "https://localhost:8080/"
        }
      },
      "outputs": [
        {
          "output_type": "stream",
          "name": "stdout",
          "text": [
            "20639/20639 [==============================] - 30s 1ms/step\n"
          ]
        }
      ],
      "source": [
        "from tensorflow.keras.models import load_model\n",
        "\n",
        "LTSV_model = load_model('/content/drive/MyDrive/best_model.h5')\n",
        "pred = LTSV_model.predict(X_test)\n"
      ]
    },
    {
      "cell_type": "code",
      "source": [
        "X_test"
      ],
      "metadata": {
        "colab": {
          "base_uri": "https://localhost:8080/"
        },
        "id": "Fm18Q5ckPJLY",
        "outputId": "a85b716f-b56d-4710-c1ae-722008a9eb5d"
      },
      "execution_count": null,
      "outputs": [
        {
          "output_type": "execute_result",
          "data": {
            "text/plain": [
              "array([[[1.00000001, 0.56097561, 0.        , ..., 0.        ,\n",
              "         0.        , 1.00000001]],\n",
              "\n",
              "       [[1.00000001, 0.        , 0.        , ..., 0.        ,\n",
              "         0.        , 1.00000001]],\n",
              "\n",
              "       [[1.00000086, 0.29268293, 0.        , ..., 0.        ,\n",
              "         0.        , 1.00000086]],\n",
              "\n",
              "       ...,\n",
              "\n",
              "       [[2.49997597, 0.29268293, 0.        , ..., 0.        ,\n",
              "         0.        , 2.49997597]],\n",
              "\n",
              "       [[2.49997598, 0.24390244, 0.        , ..., 0.        ,\n",
              "         0.        , 2.49997598]],\n",
              "\n",
              "       [[2.49997598, 0.        , 0.        , ..., 0.        ,\n",
              "         0.        , 2.49997598]]])"
            ]
          },
          "metadata": {},
          "execution_count": 19
        }
      ]
    },
    {
      "cell_type": "code",
      "source": [
        "pred"
      ],
      "metadata": {
        "colab": {
          "base_uri": "https://localhost:8080/"
        },
        "id": "fdvXQBdkPLwg",
        "outputId": "f6d1cd84-b506-4e03-c3ca-8abd2e90261a"
      },
      "execution_count": null,
      "outputs": [
        {
          "output_type": "execute_result",
          "data": {
            "text/plain": [
              "array([[[ 7.5398433e-01,  2.5590903e-01,  3.2916758e-04, ...,\n",
              "         -1.2310036e-04,  2.0096451e-04,  7.5431150e-01]],\n",
              "\n",
              "       [[ 7.5236118e-01,  2.5590551e-01,  3.3194106e-04, ...,\n",
              "         -1.2429617e-04,  2.0188838e-04,  7.5268734e-01]],\n",
              "\n",
              "       [[ 7.5348675e-01,  2.5592279e-01,  3.2962952e-04, ...,\n",
              "         -1.2373365e-04,  2.0032376e-04,  7.5381184e-01]],\n",
              "\n",
              "       ...,\n",
              "\n",
              "       [[ 1.0333518e+00,  2.5965592e-01,  4.0713884e-04, ...,\n",
              "         -4.2528100e-04,  3.0180439e-04,  1.0330997e+00]],\n",
              "\n",
              "       [[ 1.0333116e+00,  2.5967449e-01,  4.0704478e-04, ...,\n",
              "         -4.2619184e-04,  3.0246377e-04,  1.0330594e+00]],\n",
              "\n",
              "       [[ 1.0336536e+00,  2.5951606e-01,  4.0761754e-04, ...,\n",
              "         -4.1897781e-04,  2.9667094e-04,  1.0334034e+00]]], dtype=float32)"
            ]
          },
          "metadata": {},
          "execution_count": 20
        }
      ]
    },
    {
      "cell_type": "markdown",
      "source": [
        "## Результаты\n"
      ],
      "metadata": {
        "id": "CJNgq9VcP2y2"
      }
    },
    {
      "cell_type": "markdown",
      "source": [
        "Выполняет оценку MAE между фактическими данными (X_test_reshaped) и предсказанными данными (pred_reshaped). Среднее абсолютное отклонение на каждом временном шаге и для каждого признака составляет приблизительно 0.1137 (ранее выбрано моделью на этапе обучения, как оптимальное val_loss)."
      ],
      "metadata": {
        "id": "BiPro2tirw58"
      }
    },
    {
      "cell_type": "code",
      "source": [
        "from sklearn.metrics import mean_absolute_error\n",
        "\n",
        "#Для оценки нужно перевети в двухмерный массив\n",
        "X_test_reshaped = X_test.reshape(-1, X_test.shape[2])\n",
        "pred_reshaped = pred.reshape(-1, pred.shape[2])\n",
        "\n",
        "mae = mean_absolute_error(X_test_reshaped, pred_reshaped)\n",
        "print(\"Mean Absolute Error:\", mae)"
      ],
      "metadata": {
        "colab": {
          "base_uri": "https://localhost:8080/"
        },
        "id": "NwNbHfkVNoyK",
        "outputId": "987ae49b-b9f8-428d-8e44-c1399818cb15"
      },
      "execution_count": null,
      "outputs": [
        {
          "output_type": "stream",
          "name": "stdout",
          "text": [
            "Mean Absolute Error: 0.11356538409122476\n"
          ]
        }
      ]
    },
    {
      "cell_type": "markdown",
      "source": [
        "# Тесты на данных с аномалиями"
      ],
      "metadata": {
        "id": "JZRCNpt0gl4L"
      }
    },
    {
      "cell_type": "markdown",
      "source": [
        "Для поиска оценки обработки аномалий были проведены следующие эксперементы. В качестстве датасета с аномалиями был применен массив данных с специально изменеными данными, сильно отличающимися от нормлаьных"
      ],
      "metadata": {
        "id": "hHQj73b1P7mo"
      }
    },
    {
      "cell_type": "code",
      "source": [
        "df_anomaly_test = pd.read_csv('/content/drive/MyDrive/anomaly_test_1.csv')\n",
        "\n",
        "df_anomaly_test = df_anomaly_test.drop(columns = ['Info', 'No.'], axis=1)\n",
        "df_anomaly_test = df_anomaly_test.replace(\"Missing\", pd.NA)\n",
        "df_anomaly_test = df_anomaly_test.replace(\"Offln\", pd.NA)\n",
        "df_anomaly_test = df_anomaly_test.dropna()\n",
        "\n",
        "protocol_dummies = pd.get_dummies(df_anomaly_test['Protocol'], prefix='Protocol')\n",
        "protocol_dummies = protocol_dummies.astype(int)\n",
        "\n",
        "df_anomaly_test_encoded = pd.concat([df_anomaly_test, protocol_dummies], axis=1)\n",
        "df_anomaly_test_encoded.drop(['Protocol'], axis=1, inplace=True)\n",
        "\n",
        "df_anomaly_test_encoded['Source_scaled'] = df_anomaly_test_encoded['Source'].apply(scale_ip_addresses)\n",
        "df_anomaly_test_encoded['Destination_scaled'] = df_anomaly_test_encoded['Destination'].apply(scale_ip_addresses)\n",
        "df_anomaly_test_encoded['Source_scaled'] = df_anomaly_test_encoded['Source_scaled'].apply(lambda x: x + [0] * (8 - len(x)))\n",
        "df_anomaly_test_encoded['Destination_scaled'] = df_anomaly_test_encoded['Destination_scaled'].apply(lambda x: x + [0] * (8 - len(x)))\n",
        "\n",
        "source_octets_df_anomaly_test = pd.DataFrame(df_anomaly_test_encoded['Source_scaled'].tolist(), columns=[f'Source_Octet{i}' for i in range(1, 9)])\n",
        "destination_octets_df_anomaly_test = pd.DataFrame(df_anomaly_test_encoded['Destination_scaled'].tolist(), columns=[f'Destination_Octet{i}' for i in range(1, 9)])\n",
        "\n",
        "\n",
        "df_anomaly_test_encoded = pd.concat([df_anomaly_test_encoded, source_octets_df_anomaly_test, destination_octets_df_anomaly_test], axis=1)\n",
        "df_anomaly_test_encoded.drop(['Source_scaled', 'Destination_scaled', 'Source', 'Destination'], axis=1, inplace=True)\n",
        "df_anomaly_test_encoded.fillna(0, inplace=True)\n",
        "\n",
        "scaler1 = MinMaxScaler()\n",
        "df_anomaly_test_encoded[['Length']] = scaler.fit_transform(df_anomaly_test_encoded[['Length']])\n",
        "df_anomaly_test_encoded[['Timing_data']] = scaler.fit_transform(df_anomaly_test_encoded[['Time']])\n",
        "\n",
        "#нормализация данных\n",
        "scaler2 = MinMaxScaler()\n",
        "df_anomaly_test_scaled = scaler.fit_transform(df_anomaly_test_encoded)\n",
        "print(\"Normalize dataset:\")\n",
        "print(df_anomaly_test_scaled)\n",
        "\n",
        "df_anomaly_test_shaped = df_anomaly_test_scaled.reshape(df_anomaly_test_scaled.shape[0], 1, df_anomaly_test_scaled.shape[1])\n",
        "print(\"Data shape:\", df_anomaly_test_shaped.shape)"
      ],
      "metadata": {
        "colab": {
          "base_uri": "https://localhost:8080/"
        },
        "id": "Ud-rOJo_euAR",
        "outputId": "7f34ea10-7aea-49a3-a97c-56ca065810c1"
      },
      "execution_count": null,
      "outputs": [
        {
          "output_type": "stream",
          "name": "stdout",
          "text": [
            "Normalize dataset:\n",
            "[[0.00000000e+00 7.98934754e-03 0.00000000e+00 ... 0.00000000e+00\n",
            "  0.00000000e+00 0.00000000e+00]\n",
            " [1.84258203e-09 1.53129161e-02 0.00000000e+00 ... 0.00000000e+00\n",
            "  0.00000000e+00 1.84258203e-09]\n",
            " [3.45620416e-09 0.00000000e+00 0.00000000e+00 ... 0.00000000e+00\n",
            "  0.00000000e+00 3.45620416e-09]\n",
            " ...\n",
            " [9.99999996e-01 7.98934754e-03 0.00000000e+00 ... 0.00000000e+00\n",
            "  0.00000000e+00 9.99999996e-01]\n",
            " [9.99999999e-01 6.65778961e-03 0.00000000e+00 ... 0.00000000e+00\n",
            "  0.00000000e+00 9.99999999e-01]\n",
            " [1.00000000e+00 0.00000000e+00 0.00000000e+00 ... 0.00000000e+00\n",
            "  0.00000000e+00 1.00000000e+00]]\n",
            "Data shape: (1100744, 1, 22)\n"
          ]
        }
      ]
    },
    {
      "cell_type": "code",
      "source": [
        "LTSV_model = load_model('/content/drive/MyDrive/best_model.h5')\n",
        "pred_anomaly_test = LTSV_model.predict(df_anomaly_test_shaped)"
      ],
      "metadata": {
        "colab": {
          "base_uri": "https://localhost:8080/"
        },
        "id": "GO9BxfPYgqin",
        "outputId": "92385069-df37-4a8e-fd66-2f0e57efd1c9"
      },
      "execution_count": null,
      "outputs": [
        {
          "output_type": "stream",
          "name": "stdout",
          "text": [
            "34399/34399 [==============================] - 55s 2ms/step\n"
          ]
        }
      ]
    },
    {
      "cell_type": "markdown",
      "source": [
        "## 1 метод"
      ],
      "metadata": {
        "id": "HdgKVktsQJ5W"
      }
    },
    {
      "cell_type": "markdown",
      "source": [
        "Нахождение аномалий происходит через прохождение порога при вычислении среднеквадратичной ошибки (MSE) между X_test и pred. Порог был поставлен для примера"
      ],
      "metadata": {
        "id": "MKO7E-uDs31U"
      }
    },
    {
      "cell_type": "code",
      "execution_count": null,
      "metadata": {
        "id": "PSckrxWvr1Sl",
        "colab": {
          "base_uri": "https://localhost:8080/"
        },
        "outputId": "aee524ad-7b14-4f7c-bd84-74f4b09e42c3"
      },
      "outputs": [
        {
          "output_type": "stream",
          "name": "stdout",
          "text": [
            "0.08672564755217593\n"
          ]
        }
      ],
      "source": [
        "def mse(df_anomaly_test_shaped, pred_anomaly_test):\n",
        " df_anomaly_test_shaped, pred_anomaly_test = np.array(df_anomaly_test_shaped), np.array(pred_anomaly_test)\n",
        " return np.square(np.subtract(df_anomaly_test_shaped, pred_anomaly_test)).mean()\n",
        "\n",
        "mse=mse(df_anomaly_test_shaped, pred_anomaly_test)\n",
        "threshold = 0.07\n",
        "anomalies = df_anomaly_test_shaped[mse > threshold]\n",
        "print(mse)"
      ]
    },
    {
      "cell_type": "code",
      "execution_count": null,
      "metadata": {
        "id": "Qc9Jrte8r1Sm",
        "outputId": "27754208-cbab-4bb6-f1a0-bf672dd40043",
        "colab": {
          "base_uri": "https://localhost:8080/"
        }
      },
      "outputs": [
        {
          "output_type": "stream",
          "name": "stdout",
          "text": [
            "[[[[0.00000000e+00 7.98934754e-03 0.00000000e+00 ... 0.00000000e+00\n",
            "    0.00000000e+00 0.00000000e+00]]\n",
            "\n",
            "  [[1.84258203e-09 1.53129161e-02 0.00000000e+00 ... 0.00000000e+00\n",
            "    0.00000000e+00 1.84258203e-09]]\n",
            "\n",
            "  [[3.45620416e-09 0.00000000e+00 0.00000000e+00 ... 0.00000000e+00\n",
            "    0.00000000e+00 3.45620416e-09]]\n",
            "\n",
            "  ...\n",
            "\n",
            "  [[9.99999996e-01 7.98934754e-03 0.00000000e+00 ... 0.00000000e+00\n",
            "    0.00000000e+00 9.99999996e-01]]\n",
            "\n",
            "  [[9.99999999e-01 6.65778961e-03 0.00000000e+00 ... 0.00000000e+00\n",
            "    0.00000000e+00 9.99999999e-01]]\n",
            "\n",
            "  [[1.00000000e+00 0.00000000e+00 0.00000000e+00 ... 0.00000000e+00\n",
            "    0.00000000e+00 1.00000000e+00]]]]\n"
          ]
        }
      ],
      "source": [
        "print(anomalies) # как видно на резульат выводится полный маасив данных"
      ]
    },
    {
      "cell_type": "markdown",
      "source": [
        "Была произведена попытка построить гисторграмму и вычислить выбросы, и в теории можно вычислить наиболее отличающиеся значения и посчитать их аномалиями."
      ],
      "metadata": {
        "id": "sUnPJSXqZ4ol"
      }
    },
    {
      "cell_type": "code",
      "source": [
        "anomalies = anomalies.reshape(-1, anomalies.shape[2])\n",
        "print(anomalies.shape)"
      ],
      "metadata": {
        "colab": {
          "base_uri": "https://localhost:8080/"
        },
        "id": "HLN9WGByJu1C",
        "outputId": "07725e33-105f-4a6d-dbc4-93d3e0b6ddd6"
      },
      "execution_count": null,
      "outputs": [
        {
          "output_type": "stream",
          "name": "stdout",
          "text": [
            "(24216368, 1)\n"
          ]
        }
      ]
    },
    {
      "cell_type": "code",
      "source": [
        "import matplotlib.pyplot as plt\n",
        "anomalies_values = [item[0] for item in anomalies]\n",
        "\n",
        "#гистограмма\n",
        "plt.hist(anomalies_values, bins=20, color='blue', alpha=0.7)\n",
        "plt.title('Anomalies Histogram')\n",
        "plt.xlabel('Anomaly Value')\n",
        "plt.ylabel('Frequency')\n",
        "plt.show()"
      ],
      "metadata": {
        "colab": {
          "base_uri": "https://localhost:8080/",
          "height": 472
        },
        "id": "FZWXQnUdIBbb",
        "outputId": "9e9f10b5-490c-4680-d400-9284f10f98ee"
      },
      "execution_count": null,
      "outputs": [
        {
          "output_type": "display_data",
          "data": {
            "text/plain": [
              "<Figure size 640x480 with 1 Axes>"
            ],
            "image/png": "[encoded data removed]"
          },
          "metadata": {}
        }
      ]
    },
    {
      "cell_type": "markdown",
      "source": [
        "## 2 Метод (Z-оценки)"
      ],
      "metadata": {
        "id": "7jQQRADVaM6A"
      }
    },
    {
      "cell_type": "markdown",
      "source": [
        "Сменим подход и теперь будем вычислять разницу между предсказаными и тестовыми значениями, затем с помощью среднего значения, и вычисления z-оценок для каждого элемента подмассива найдем аномалии, тое сть наиболее отличающиеся разницы массивов X_test и diff"
      ],
      "metadata": {
        "id": "_ZBcm8GkaRQQ"
      }
    },
    {
      "cell_type": "code",
      "source": [
        "df_anomaly_test_reshaped = df_anomaly_test_shaped.reshape(-1, df_anomaly_test_shaped.shape[2])\n",
        "pred_anomaly_test_reshaped = pred_anomaly_test.reshape(-1, pred_anomaly_test.shape[2])\n",
        "\n",
        "diff = np.abs(df_anomaly_test_reshaped - pred_anomaly_test_reshaped)\n",
        "diff.shape"
      ],
      "metadata": {
        "colab": {
          "base_uri": "https://localhost:8080/"
        },
        "id": "9wjd_bNQOxrM",
        "outputId": "c00778ea-2fce-462a-b995-45862fcb5974"
      },
      "execution_count": null,
      "outputs": [
        {
          "output_type": "execute_result",
          "data": {
            "text/plain": [
              "(1100744, 22)"
            ]
          },
          "metadata": {},
          "execution_count": 93
        }
      ]
    },
    {
      "cell_type": "code",
      "source": [
        "mean_value = sum(diff) / len(diff)\n",
        "\n",
        "print(f\"Среднее значение: {mean_value}\")"
      ],
      "metadata": {
        "colab": {
          "base_uri": "https://localhost:8080/"
        },
        "id": "DmpUOuM7ML0O",
        "outputId": "2dedfc3e-f9b9-448b-dca1-af82927ef63f"
      },
      "execution_count": null,
      "outputs": [
        {
          "output_type": "stream",
          "name": "stdout",
          "text": [
            "Среднее значение: [1.30906708e-01 2.51135761e-01 4.08724370e-04 3.33650797e-01\n",
            " 3.33327005e-01 2.31981576e-04 5.63845298e-04 5.04591037e-04\n",
            " 8.37038189e-02 4.94683362e-04 2.30617003e-04 4.40257156e-04\n",
            " 8.82298838e-04 7.54869909e-01 6.87677550e-04 9.05002997e-05\n",
            " 7.36605566e-01 3.20063785e-04 2.97901282e-04 2.05266471e-04\n",
            " 1.89837699e-04 1.30844734e-01]\n"
          ]
        }
      ]
    },
    {
      "cell_type": "code",
      "source": [
        "#Z-оценки для каждого элемента каждого подмассива\n",
        "z_scores = (diff - mean_value) / np.std(diff, axis=0)\n",
        "\n",
        "#сумма абсолютных Z-оценок для каждого подмассива\n",
        "sum_z_scores = np.sum(np.abs(z_scores), axis=1)\n",
        "\n",
        "#нахождение наиболее отличающихся, можно настроить вывод, в данном случае топ 5 отличающихся\n",
        "top_indices = np.argsort(sum_z_scores)[-10:]\n",
        "for index in top_indices:\n",
        "    print(f\"Отличающийся подмассив {index + 1}: {diff[index]}\")"
      ],
      "metadata": {
        "colab": {
          "base_uri": "https://localhost:8080/"
        },
        "id": "ObD2ZzT4b4dt",
        "outputId": "220af49c-2135-437c-e6c8-fe5cffd46a0f"
      },
      "execution_count": null,
      "outputs": [
        {
          "output_type": "stream",
          "name": "stdout",
          "text": [
            "Отличающийся подмассив 365339: [2.15455083e-02 2.29836606e-01 9.99728056e-01 9.99652624e-01\n",
            " 3.08835879e-05 1.00018596e+00 9.99765277e-01 1.00046951e+00\n",
            " 9.99476314e-01 9.99567230e-01 1.00019566e+00 1.00036747e+00\n",
            " 9.99228579e-01 2.44972408e-01 1.00079116e+00 1.00001138e+00\n",
            " 7.50125885e-01 9.99792208e-01 1.00022346e+00 1.00016184e+00\n",
            " 9.99872312e-01 2.14519886e-02]\n",
            "Отличающийся подмассив 235727: [1.66186833e-02 2.29968452e-01 9.99744670e-01 9.99561667e-01\n",
            " 4.31295484e-06 1.00016945e+00 9.99649644e-01 1.00046702e+00\n",
            " 9.99571264e-01 9.99559981e-01 1.00015203e+00 1.00038870e+00\n",
            " 9.99240752e-01 2.45034039e-01 1.00069162e+00 1.00000704e+00\n",
            " 7.50057876e-01 9.99795786e-01 1.00023932e+00 1.00016657e+00\n",
            " 9.99866620e-01 1.66393065e-02]\n",
            "Отличающийся подмассив 538155: [7.89550271e-03 2.29765498e-01 9.99677204e-01 9.99162793e-01\n",
            " 1.05686486e-04 1.00020203e+00 9.99510646e-01 1.00044591e+00\n",
            " 9.99146044e-01 9.99535474e-01 1.00025199e+00 1.00039322e+00\n",
            " 9.99140582e-01 2.45146036e-01 1.00056263e+00 1.00001823e+00\n",
            " 7.49812484e-01 9.99711716e-01 1.00023389e+00 1.00013877e+00\n",
            " 9.99879513e-01 7.82534804e-03]\n",
            "Отличающийся подмассив 1099819: [2.50415559e-01 2.29735785e-01 9.99671050e-01 9.98860240e-01\n",
            " 8.36905092e-05 1.00020522e+00 9.99621391e-01 1.00044440e+00\n",
            " 9.99306023e-01 9.99584263e-01 1.00029725e+00 1.00046013e+00\n",
            " 9.98992404e-01 2.44797170e-01 1.00060018e+00 1.00007111e+00\n",
            " 7.49857485e-01 9.99666263e-01 1.00036466e+00 1.00014880e+00\n",
            " 9.99826752e-01 2.50216777e-01]\n",
            "Отличающийся подмассив 408543: [1.09881227e-02 2.29732864e-01 9.99720328e-01 9.99583006e-01\n",
            " 5.45214862e-05 1.00019992e+00 9.99735713e-01 1.00047298e+00\n",
            " 9.99367237e-01 9.99562425e-01 1.00022833e+00 1.00035798e+00\n",
            " 9.99209989e-01 2.44996548e-01 1.00075325e+00 1.00001526e+00\n",
            " 7.50074923e-01 9.99785214e-01 1.00021858e+00 1.00015598e+00\n",
            " 9.99874616e-01 1.08041232e-02]\n",
            "Отличающийся подмассив 192523: [6.97620144e-03 2.29872816e-01 9.99748483e-01 9.99591947e-01\n",
            " 1.13062561e-05 1.00017291e+00 9.99656558e-01 1.00048117e+00\n",
            " 9.99582350e-01 9.99556955e-01 1.00014471e+00 1.00039638e+00\n",
            " 9.99234906e-01 2.45018661e-01 1.00071260e+00 1.00000533e+00\n",
            " 7.50067472e-01 9.99795337e-01 1.00024096e+00 1.00016523e+00\n",
            " 9.99859955e-01 6.94087078e-03]\n",
            "Отличающийся подмассив 149319: [4.74491548e-03 2.29775452e-01 9.99752413e-01 9.99628305e-01\n",
            " 1.84373930e-05 1.00017634e+00 9.99671459e-01 1.00049366e+00\n",
            " 9.99612391e-01 9.99550780e-01 1.00013445e+00 1.00040606e+00\n",
            " 9.99227707e-01 2.44995654e-01 1.00074574e+00 1.00000222e+00\n",
            " 7.50081539e-01 9.99794074e-01 1.00024268e+00 1.00016292e+00\n",
            " 9.99852806e-01 4.65676021e-03]\n",
            "Отличающийся подмассив 494951: [3.24062983e-04 2.29760104e-01 9.99701265e-01 9.99276757e-01\n",
            " 9.95537266e-05 1.00020752e+00 9.99591589e-01 1.00044785e+00\n",
            " 9.99218225e-01 9.99544307e-01 1.00025959e+00 1.00036848e+00\n",
            " 9.99168063e-01 2.45121419e-01 1.00060173e+00 1.00000671e+00\n",
            " 7.49875069e-01 9.99737744e-01 1.00022693e+00 1.00014179e+00\n",
            " 9.99886660e-01 1.86257045e-04]\n",
            "Отличающийся подмассив 451747: [1.58626903e-03 2.29713940e-01 9.99711758e-01 9.99422669e-01\n",
            " 7.98339024e-05 1.00020840e+00 9.99658108e-01 1.00046378e+00\n",
            " 9.99271035e-01 9.99552201e-01 1.00025504e+00 1.00035550e+00\n",
            " 9.99189795e-01 2.45063543e-01 1.00066360e+00 1.00001393e+00\n",
            " 7.49970376e-01 9.99765980e-01 1.00021826e+00 1.00014837e+00\n",
            " 9.99880882e-01 1.38778557e-03]\n",
            "Отличающийся подмассив 62911: [1.12769407e-03 2.29836815e-01 9.99757924e-01 9.99634147e-01\n",
            " 1.30152330e-05 1.00016576e+00 9.99718308e-01 1.00047053e+00\n",
            " 9.99816835e-01 9.99502148e-01 1.00011064e+00 1.00042425e+00\n",
            " 9.99225439e-01 2.44949162e-01 1.00083121e+00 9.99988110e-01\n",
            " 7.50103891e-01 9.99774045e-01 1.00023305e+00 1.00014009e+00\n",
            " 9.99846537e-01 1.12988454e-03]\n"
          ]
        }
      ]
    }
  ],
  "metadata": {
    "colab": {
      "provenance": [],
      "include_colab_link": true
    },
    "kernelspec": {
      "display_name": "Python 3",
      "name": "python3"
    },
    "language_info": {
      "codemirror_mode": {
        "name": "ipython",
        "version": 3
      },
      "file_extension": ".py",
      "mimetype": "text/x-python",
      "name": "python",
      "nbconvert_exporter": "python",
      "pygments_lexer": "ipython3",
      "version": "3.11.5"
    }
  },
  "nbformat": 4,
  "nbformat_minor": 0
}